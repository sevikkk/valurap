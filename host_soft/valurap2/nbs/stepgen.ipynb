{
 "cells": [
  {
   "cell_type": "code",
   "execution_count": 1,
   "metadata": {},
   "outputs": [
    {
     "data": {
      "text/plain": [
       "33"
      ]
     },
     "execution_count": 1,
     "metadata": {},
     "output_type": "execute_result"
    }
   ],
   "source": [
    "from valurap2 import commands\n",
    "import imp\n",
    "imp.reload(commands)\n",
    "\n",
    "p = commands.S3GPort()\n",
    "p.S3G_OUTPUT(63, 33)\n",
    "p.S3G_OUTPUT(7, 0x00000000)\n",
    "p.S3G_INPUT(63)"
   ]
  },
  {
   "cell_type": "code",
   "execution_count": 2,
   "metadata": {},
   "outputs": [
    {
     "data": {
      "text/plain": [
       "(281474976.710656, 562949.9534213119, 50000.0, 1000.0)"
      ]
     },
     "execution_count": 2,
     "metadata": {},
     "output_type": "execute_result"
    }
   ],
   "source": [
    "s_t = 0.001\n",
    "f = 50000000\n",
    "sb = 40\n",
    "\n",
    "n = 400 * 32\n",
    "t = 1\n",
    "\n",
    "v = n * (2 ** sb) / f / t\n",
    "v1 = v * 2\n",
    "n_s = t / s_t\n",
    "a = v1 / n_s\n",
    "dt = f * s_t\n",
    "v, a, dt, n_s"
   ]
  },
  {
   "cell_type": "code",
   "execution_count": null,
   "metadata": {},
   "outputs": [],
   "source": []
  },
  {
   "cell_type": "code",
   "execution_count": 3,
   "metadata": {},
   "outputs": [
    {
     "name": "stdout",
     "output_type": "stream",
     "text": [
      "9 1 23 3180 3127 -3181 -3128\n",
      "9 1 23 3180 3144 0 -17\n",
      "es1 33 3145\n",
      "9 1 23 3240 3144 -60 0\n",
      "es1 2 3241\n",
      "9 1 23 3240 6231 0 -3087\n",
      "es1 48 3087\n",
      "9 1 23 6362 6231 -3122 0\n",
      "es1 19 3122\n",
      "9 1 23 6362 6344 0 -113\n",
      "es1 34 0\n",
      "es1 34 113\n",
      "9 1 23 6440 6344 -78 0\n",
      "9 1 23 6440 9431 0 -3087\n",
      "es1 48 3087\n",
      "9 1 23 9562 9544 -3122 -113\n",
      "es1 35 3200\n",
      "es1 35 113\n",
      "9 1 23 9640 9544 -78 0\n",
      "es1 2 78\n",
      "9 1 23 9640 12631 0 -3087\n",
      "es1 48 3087\n",
      "9 1 23 9640 12662 0 -31\n",
      "es1 19 0\n",
      "9 1 23 12762 12744 -3122 -82\n",
      "es1 33 113\n",
      "9 1 23 12840 12744 -78 0\n",
      "es1 2 3200\n",
      "9 1 23 12840 15831 0 -3087\n",
      "es1 48 3087\n",
      "9 1 23 15962 15944 -3122 -113\n",
      "es1 35 3122\n",
      "es1 35 113\n",
      "9 1 23 16045 15944 -83 0\n",
      "9 1 23 16045 19031 0 -3087\n",
      "es1 48 3087\n",
      "9 1 23 19162 19144 -3117 -113\n",
      "es1 35 3200\n",
      "es1 35 113\n",
      "9 1 23 19240 19144 -78 0\n",
      "es1 2 78\n",
      "9 1 15 19240 19144 0 0\n",
      "9 1 7 19240 19144 0 0\n",
      "0 0 0 19240 19144 0 0\n"
     ]
    }
   ],
   "source": [
    "import time\n",
    "from valurap2.buf_commands import CommandBuffer\n",
    "cb = CommandBuffer()\n",
    "\n",
    "cb.BUF_OUTPUT(0, 50000),        # step time 0.001s\n",
    "cb.BUF_OUTPUT(2, 40),           # step_bit = 40\n",
    "cb.BUF_OUTPUT(3, 100),          # pre_n\n",
    "cb.BUF_OUTPUT(4, 400),          # pulse_n\n",
    "cb.BUF_OUTPUT(5, 500),          # post_n\n",
    "cb.BUF_OUTPUT(7, 0x80818080),   # enable 1 and 2 motors on SG0\n",
    "cb.BUF_OUTPUT(13, 500000),       # ES_TIMEOUT 10ms\n",
    "\n",
    "cb.BUF_OUTPUT(1, 20000),              # steps_val = 2000 (2 seconds)\n",
    "cb.BUF_PARAM_ADDR(0),\n",
    "cb.BUF_PARAM_WRITE_LO(0, 3),           # CH0.STATUS=3 (enable + target_v)\n",
    "cb.BUF_PARAM_WRITE_LO(3, 0),           # CH0.V_OUT=0\n",
    "cb.BUF_PARAM_WRITE_LO(1, 500000),     # CH0.A\n",
    "cb.BUF_PARAM_WRITE_LO(1, 0),           # CH0.J=0\n",
    "cb.BUF_PARAM_WRITE_LO(1, 0),           # CH0.JJ=0\n",
    "cb.BUF_PARAM_WRITE_LO(1, 20000000),  # CH0.TARGET_V\n",
    "cb.BUF_PARAM_WRITE_LO(1, 500000),     # CH0.ABORT_A\n",
    "cb.BUF_PARAM_WRITE_LO_NC(0),   # CH1.STATUS=0\n",
    "cb.BUF_PARAM_WRITE_LO_NC(0),   # CH2\n",
    "cb.BUF_PARAM_WRITE_LO_NC(0),   # CH3\n",
    "cb.BUF_PARAM_WRITE_LO_NC(0),   # CH4\n",
    "cb.BUF_PARAM_WRITE_LO_NC(0),   # CH5\n",
    "cb.BUF_PARAM_WRITE_LO_NC(0),   # CH6\n",
    "cb.BUF_PARAM_WRITE_LO_NC(0),   # CH7\n",
    "cb.BUF_STB(cb.STB_ASG_START),   # Start ASG cycles\n",
    "\n",
    "cb.BUF_WAIT_ALL(cb.INT_ASG_LOAD),  # Wait for APG ready for new segment\n",
    "cb.BUF_CLEAR(cb.INT_ASG_LOAD),     # Clear pending int\n",
    "\n",
    "cb.BUF_OUTPUT(1, 3000),           # steps_val = 3000 (3 seconds)\n",
    "cb.BUF_PARAM_ADDR(0),\n",
    "cb.BUF_PARAM_WRITE_LO(0, 3),          # CH0.STATUS=3\n",
    "cb.BUF_PARAM_WRITE_LO(4, -500000),   # CH0.A\n",
    "cb.BUF_PARAM_WRITE_LO(3, 5000000),  # CH0.TARGET_V\n",
    "cb.BUF_STB(cb.STB_ASG_LOAD_DONE),  # Inform ASG, next segment setup is done\n",
    "\n",
    "cb.BUF_WAIT_ALL(cb.INT_ASG_LOAD),\n",
    "cb.BUF_CLEAR(cb.INT_ASG_LOAD),\n",
    "\n",
    "cb.BUF_OUTPUT(1, 1000),      # steps_val = 1000 (1 second)\n",
    "cb.BUF_PARAM_ADDR(0),\n",
    "cb.BUF_PARAM_WRITE_LO(0, 3),          # CH0.STATUS=3\n",
    "cb.BUF_PARAM_WRITE_LO(4, -500000),   # CH0.A\n",
    "cb.BUF_PARAM_WRITE_LO(3, 0),          # CH0.TARGET_V=0\n",
    "cb.BUF_STB(cb.STB_ASG_LOAD_DONE),\n",
    "\n",
    "cb.BUF_WAIT_ALL(cb.INT_ASG_LOAD),\n",
    "cb.BUF_CLEAR(cb.INT_ASG_LOAD),\n",
    "\n",
    "cb.BUF_OUTPUT(1, 0),         # steps_val = 0 - End of path\n",
    "cb.BUF_STB(cb.STB_ASG_LOAD_DONE),\n",
    "cb.BUF_WAIT_ALL(cb.INT_ASG_DONE),  # Wait for ASG done\n",
    "cb.BUF_CLEAR(cb.INT_ASG_DONE),\n",
    "\n",
    "cb.BUF_OUTPUT(7, 0x00000000), # disable 1 and 2 motors\n",
    "cb.BUF_DONE(0)                # End of program for BE\n",
    "\n",
    "\n",
    "p.S3G_STB(cb.STB_BE_ABORT)      # Reset BE and ASG just in case\n",
    "p.S3G_STB(cb.STB_ASG_ABORT)\n",
    "p.S3G_WRITE_FIFO(cb)           # Send program into FIFO\n",
    "p.S3G_STB(cb.STB_BE_START)      # Start execution\n",
    "p.S3G_STB(cb.STB_ES_UNLOCK)\n",
    "\n",
    "oa, ob, oc, od1, od2 = None, None, None, -1, -1\n",
    "pd1 = -1\n",
    "pd2 = -1\n",
    "while True:\n",
    "    a = p.S3G_INPUT(cb.IN_BE_STATUS)\n",
    "    b = p.S3G_INPUT(cb.IN_APG_STATUS)\n",
    "    c = p.S3G_INPUT(cb.IN_FIFO_DATA_COUNT)\n",
    "    d1 = p.S3G_INPUT(cb.IN_MOTOR1_HOLD_X)\n",
    "    d2 = p.S3G_INPUT(cb.IN_MOTOR2_HOLD_X)\n",
    "    \n",
    "    if (a, b, c, d1, d2) != (oa, ob, oc, od1, od2):\n",
    "        print(a,b,c,d1,d2, od1 - d1, od2 - d2)\n",
    "        if (d1, d2) != (od1, od2):\n",
    "            es = p.S3G_INPUT(cb.IN_ES_STATUS)\n",
    "            if es & 2:\n",
    "                print(\"es1\", es, d1 - pd1)\n",
    "                pd1 = d1\n",
    "                p.S3G_STB(cb.STB_ES_UNLOCK)\n",
    "            if es & 32:\n",
    "                print(\"es1\", es, d2 - pd2)\n",
    "                pd2 = d2\n",
    "                p.S3G_STB(cb.STB_ES_UNLOCK)\n",
    "        \n",
    "    (oa, ob, oc, od1, od2) = (a,b,c,d1,d2) \n",
    "    if a & 1 == 0:\n",
    "        break\n",
    "    time.sleep(0.001)"
   ]
  },
  {
   "cell_type": "code",
   "execution_count": 4,
   "metadata": {},
   "outputs": [
    {
     "name": "stdout",
     "output_type": "stream",
     "text": [
      "0\n",
      "48\n",
      "16\n",
      "32\n",
      "0\n"
     ]
    },
    {
     "ename": "KeyboardInterrupt",
     "evalue": "",
     "output_type": "error",
     "traceback": [
      "\u001b[0;31m---------------------------------------------------------------------------\u001b[0m",
      "\u001b[0;31mKeyboardInterrupt\u001b[0m                         Traceback (most recent call last)",
      "\u001b[0;32m<ipython-input-4-77bc92b7a5ae>\u001b[0m in \u001b[0;36m<module>\u001b[0;34m\u001b[0m\n\u001b[1;32m     10\u001b[0m \u001b[0;34m\u001b[0m\u001b[0m\n\u001b[1;32m     11\u001b[0m     \u001b[0moa\u001b[0m \u001b[0;34m=\u001b[0m \u001b[0ma\u001b[0m\u001b[0;34m\u001b[0m\u001b[0;34m\u001b[0m\u001b[0m\n\u001b[0;32m---> 12\u001b[0;31m     \u001b[0mtime\u001b[0m\u001b[0;34m.\u001b[0m\u001b[0msleep\u001b[0m\u001b[0;34m(\u001b[0m\u001b[0;36m0.01\u001b[0m\u001b[0;34m)\u001b[0m\u001b[0;34m\u001b[0m\u001b[0;34m\u001b[0m\u001b[0m\n\u001b[0m",
      "\u001b[0;31mKeyboardInterrupt\u001b[0m: "
     ]
    }
   ],
   "source": [
    "oa = None\n",
    "p.S3G_STB(cb.STB_ES_UNLOCK)\n",
    "\n",
    "while True:\n",
    "    a = p.S3G_INPUT(cb.IN_ES_STATUS)\n",
    "    \n",
    "    if a != oa:\n",
    "        print(a)\n",
    "        p.S3G_STB(cb.STB_ES_UNLOCK)\n",
    "        \n",
    "    oa = a \n",
    "    time.sleep(0.01)"
   ]
  },
  {
   "cell_type": "code",
   "execution_count": 14,
   "metadata": {},
   "outputs": [
    {
     "name": "stdout",
     "output_type": "stream",
     "text": [
      "0 1 0 17 60 -18 -61 1\n",
      "0 1 0 3087 60 -3070 0 100000001\n",
      "es1 48 3088\n",
      "0 1 0 3087 60 0 0 100000001\n",
      "0 1 0 3180 60 -93 0 100000001\n",
      "0 1 0 3180 3112 0 -3052 1100000001\n",
      "es2 19 3113\n",
      "Both stops are reached\n",
      "3087 3180 93 3112 3127 15\n"
     ]
    }
   ],
   "source": [
    "from valurap2.buf_commands import CommandBuffer\n",
    "import time\n",
    "\n",
    "cb = CommandBuffer()\n",
    "\n",
    "cb.BUF_OUTPUT(0, 50000),        # step time 0.001s\n",
    "cb.BUF_OUTPUT(2, 40),           # step_bit = 40\n",
    "cb.BUF_OUTPUT(3, 100),          # pre_n\n",
    "cb.BUF_OUTPUT(4, 400),          # pulse_n\n",
    "cb.BUF_OUTPUT(5, 500),          # post_n\n",
    "cb.BUF_OUTPUT(7, 0x80988089),   # enable 1 and 2 motors on SG0\n",
    "cb.BUF_OUTPUT(13, 500000),       # ES_TIMEOUT 10ms\n",
    "\n",
    "cb.BUF_OUTPUT(1, 20000),              # steps_val = 20000 (20 seconds)\n",
    "cb.BUF_PARAM_ADDR(0),\n",
    "cb.BUF_PARAM_WRITE_LO(0, 3),           # CH0.STATUS=3 (enable + target_v)\n",
    "cb.BUF_PARAM_WRITE_LO(3, 0),           # CH0.V_OUT=0\n",
    "cb.BUF_PARAM_WRITE_LO(1, 500000),     # CH0.A\n",
    "cb.BUF_PARAM_WRITE_LO(1, 0),           # CH0.J=0\n",
    "cb.BUF_PARAM_WRITE_LO(1, 0),           # CH0.JJ=0\n",
    "cb.BUF_PARAM_WRITE_LO(1, 210000000),  # CH0.TARGET_V\n",
    "cb.BUF_PARAM_WRITE_LO(1, 15000000),     # CH0.ABORT_A\n",
    "\n",
    "cb.BUF_PARAM_WRITE_LO_NC(0, 3),           # CH0.STATUS=3 (enable + target_v)\n",
    "cb.BUF_PARAM_WRITE_LO(3, 0),           # CH0.V_OUT=0\n",
    "cb.BUF_PARAM_WRITE_LO(1, 500000),     # CH0.A\n",
    "cb.BUF_PARAM_WRITE_LO(1, 0),           # CH0.J=0\n",
    "cb.BUF_PARAM_WRITE_LO(1, 0),           # CH0.JJ=0\n",
    "cb.BUF_PARAM_WRITE_LO(1, 70000000),  # CH0.TARGET_V\n",
    "cb.BUF_PARAM_WRITE_LO(1, 15000000),     # CH0.ABORT_A\n",
    "\n",
    "cb.BUF_PARAM_WRITE_LO_NC(0),   # CH2\n",
    "cb.BUF_PARAM_WRITE_LO_NC(0),   # CH3\n",
    "cb.BUF_PARAM_WRITE_LO_NC(0),   # CH4\n",
    "cb.BUF_PARAM_WRITE_LO_NC(0),   # CH5\n",
    "cb.BUF_PARAM_WRITE_LO_NC(0),   # CH6\n",
    "cb.BUF_PARAM_WRITE_LO_NC(0),   # CH7\n",
    "cb.BUF_STB(cb.STB_ASG_START),   # Start ASG cycles\n",
    "\n",
    "cb.BUF_DONE(0)                # End of program for BE\n",
    "\n",
    "p.S3G_STB(cb.STB_BE_ABORT)      # Reset BE and ASG just in case\n",
    "p.S3G_STB(cb.STB_ASG_ABORT)\n",
    "p.S3G_STB(cb.STB_ES_UNLOCK)\n",
    "p.S3G_STB(cb.STB_SP_ZERO)\n",
    "p.S3G_CLEAR(0xffffffff)\n",
    "p.S3G_OUTPUT(cb.OUT_MSG_X_VAL, 0)\n",
    "p.S3G_OUTPUT(cb.OUT_MSG_CONFIG0, 0x82008200)\n",
    "p.S3G_STB(cb.STB_MSG_SET_X)\n",
    "p.S3G_OUTPUT(cb.OUT_MSG_CONFIG0, 0x80008000)\n",
    "p.S3G_WRITE_FIFO(cb)           # Send program into FIFO\n",
    "p.S3G_STB(cb.STB_BE_START)      # Start execution\n",
    "\n",
    "oa, ob, oc, od1, od2 = None, None, None, -1, -1\n",
    "pd1 = -1\n",
    "pd2 = -1\n",
    "oes = None\n",
    "while True:\n",
    "    a = p.S3G_INPUT(cb.IN_BE_STATUS)\n",
    "    b = p.S3G_INPUT(cb.IN_APG_STATUS)\n",
    "    c = p.S3G_INPUT(cb.IN_FIFO_DATA_COUNT)\n",
    "    d1 = p.S3G_INPUT(cb.IN_MOTOR1_HOLD_X)\n",
    "    d2 = p.S3G_INPUT(cb.IN_MOTOR2_HOLD_X)\n",
    "    ints = p.S3G_INPUT(cb.IN_PENDING_INTS)\n",
    "    es = p.S3G_INPUT(cb.IN_ES_STATUS)\n",
    "    \n",
    "    if (a, b, c, d1, d2, es) != (oa, ob, oc, od1, od2, oes):\n",
    "        print(a,b,c,d1, d2, od1 - d1, od2 - d2, \"{:b}\".format(ints))\n",
    "        if (d1, d2) != (od1, od2):\n",
    "            if es & 32:\n",
    "                print(\"es1\", es, d1 - pd1)\n",
    "                pd1 = d1\n",
    "                p.S3G_STB(cb.STB_ES_UNLOCK)\n",
    "            if es & 2:\n",
    "                print(\"es2\", es, d2 - pd2)\n",
    "                pd2 = d2\n",
    "                p.S3G_STB(cb.STB_ES_UNLOCK)\n",
    "    if ints & (cb.INT_ASG_DONE):\n",
    "        print(\"stops are not reached\")\n",
    "        break\n",
    "    if (ints & (cb.INT_APG0_ABORT_DONE)) and (ints & (cb.INT_APG1_ABORT_DONE)):\n",
    "        print(\"Both stops are reached\")\n",
    "        cd1 = p.S3G_INPUT(cb.IN_MOTOR1_X)\n",
    "        cd2 = p.S3G_INPUT(cb.IN_MOTOR2_X)\n",
    "        print(pd1, cd1, cd1 - pd1, pd2, cd2, cd2 - pd2)\n",
    "        break\n",
    "        \n",
    "    (oa, ob, oc, od1, od2, oes) = (a,b,c,d1,d2,es) \n",
    "    #if a & 1 == 0:\n",
    "    #    break\n",
    "    time.sleep(0.001)"
   ]
  },
  {
   "cell_type": "code",
   "execution_count": 15,
   "metadata": {},
   "outputs": [
    {
     "name": "stdout",
     "output_type": "stream",
     "text": [
      "Warning, explicit X in segment\n",
      "Warning, explicit X in segment\n"
     ]
    },
    {
     "data": {
      "text/plain": [
       "'<ApgState x=53.94 v=56.84 a=0.00 j=0.00 jj=0.00 target_v=56.84>'"
      ]
     },
     "execution_count": 15,
     "metadata": {},
     "output_type": "execute_result"
    }
   ],
   "source": [
    "from valurap2 import emulate\n",
    "from valurap2.profile import ProfileSegment\n",
    "\n",
    "pr_opt = [\n",
    "    [5, [\n",
    "       ProfileSegment(apg=0, x=0),\n",
    "       ProfileSegment(apg=1, x=0),\n",
    "    ]],\n",
    "    [1000, [\n",
    "       ProfileSegment(apg=0, a=1000000, target_v = 100000000),\n",
    "       ProfileSegment(apg=1, a=5000000, target_v = 100000000),\n",
    "    ]]\n",
    "]\n",
    "apg_states = {}\n",
    "a = emulate.emulate(pr_opt, apg_states=apg_states, verbose=0, accel_step=50000, spms=[80,80])\n",
    "str(apg_states[0])"
   ]
  },
  {
   "cell_type": "code",
   "execution_count": null,
   "metadata": {},
   "outputs": [],
   "source": []
  }
 ],
 "metadata": {
  "kernelspec": {
   "display_name": "Python 3",
   "language": "python",
   "name": "python3"
  },
  "language_info": {
   "codemirror_mode": {
    "name": "ipython",
    "version": 3
   },
   "file_extension": ".py",
   "mimetype": "text/x-python",
   "name": "python",
   "nbconvert_exporter": "python",
   "pygments_lexer": "ipython3",
   "version": "3.7.3"
  }
 },
 "nbformat": 4,
 "nbformat_minor": 4
}
