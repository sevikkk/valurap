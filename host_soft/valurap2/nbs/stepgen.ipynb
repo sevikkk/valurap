{
 "cells": [
  {
   "cell_type": "code",
   "execution_count": 3,
   "metadata": {},
   "outputs": [
    {
     "data": {
      "text/plain": [
       "33"
      ]
     },
     "execution_count": 3,
     "metadata": {},
     "output_type": "execute_result"
    }
   ],
   "source": [
    "from valurap2 import commands\n",
    "import imp\n",
    "imp.reload(commands)\n",
    "\n",
    "p = commands.S3GPort()\n",
    "p.S3G_OUTPUT(63, 33)\n",
    "p.S3G_OUTPUT(7, 0x00000000)\n",
    "p.S3G_INPUT(63)"
   ]
  },
  {
   "cell_type": "code",
   "execution_count": 2,
   "metadata": {},
   "outputs": [
    {
     "data": {
      "text/plain": [
       "(281474976.710656, 562949.9534213119, 50000.0, 1000.0)"
      ]
     },
     "execution_count": 2,
     "metadata": {},
     "output_type": "execute_result"
    }
   ],
   "source": [
    "s_t = 0.001\n",
    "f = 50000000\n",
    "sb = 40\n",
    "\n",
    "n = 400 * 32\n",
    "t = 1\n",
    "\n",
    "v = n * (2 ** sb) / f / t\n",
    "v1 = v * 2\n",
    "n_s = t / s_t\n",
    "a = v1 / n_s\n",
    "dt = f * s_t\n",
    "v, a, dt, n_s"
   ]
  },
  {
   "cell_type": "code",
   "execution_count": 6,
   "metadata": {},
   "outputs": [
    {
     "name": "stdout",
     "output_type": "stream",
     "text": [
      "422650C30000401027000041280000004264000000439001000044F4010000458080808047000000008603000000880000000087000000008B000000008760E31600890000000087000000008900000000870000000089000000008700C2EB0B89000000008760E31600890000000087000000008F0000000087000000008F0000000087000000008F0000000087000000008F0000000087000000008F0000000087000000008F0000000087000000008F0000000087040000008100000000BF\n"
     ]
    }
   ],
   "source": [
    "a = [\n",
    "    p.BUF_OUTPUT(0, 50000),    # dt_val = 1000\n",
    "    p.BUF_OUTPUT(1, 10000),   # steps_val = 100\n",
    "    p.BUF_OUTPUT(2, 40),      # step_bit = 32\n",
    "    p.BUF_OUTPUT(3, 100),     # pre_n\n",
    "    p.BUF_OUTPUT(4, 400),     # pulse_n\n",
    "    p.BUF_OUTPUT(5, 500),     # post_n\n",
    "    p.BUF_OUTPUT(7, 0x80808080), # enable 1 and 2 motors\n",
    "    p.BUF_PARAM_ADDR(0),\n",
    "    p.BUF_PARAM_WRITE_LO(0, 3),   # CH0.STATUS=1\n",
    "    p.BUF_PARAM_WRITE_HI(0),\n",
    "    p.BUF_PARAM_WRITE_LO(3, 0),   # CH0.V_OUT=0\n",
    "    p.BUF_PARAM_WRITE_HI(0),\n",
    "    p.BUF_PARAM_WRITE_LO(1, 1500000),   # CH0.A=7\n",
    "    p.BUF_PARAM_WRITE_HI(0),\n",
    "    p.BUF_PARAM_WRITE_LO(1, 0),   # CH0.J=0\n",
    "    p.BUF_PARAM_WRITE_HI(0),\n",
    "    p.BUF_PARAM_WRITE_LO(1, 0),   # CH0.JJ=0\n",
    "    p.BUF_PARAM_WRITE_HI(0),\n",
    "    p.BUF_PARAM_WRITE_LO(1, 200000000),   # CH0.TARGET_V=0\n",
    "    p.BUF_PARAM_WRITE_HI(0),\n",
    "    p.BUF_PARAM_WRITE_LO(1, 1500000),  # CH0.ABORT_A=10\n",
    "    p.BUF_PARAM_WRITE_HI(0),\n",
    "    p.BUF_PARAM_WRITE_LO_NC(0),   # CH1.STATUS=0\n",
    "    p.BUF_PARAM_WRITE_HI(0),\n",
    "    p.BUF_PARAM_WRITE_LO_NC(0),   # CH2\n",
    "    p.BUF_PARAM_WRITE_HI(0),\n",
    "    p.BUF_PARAM_WRITE_LO_NC(0),   # CH3\n",
    "    p.BUF_PARAM_WRITE_HI(0),\n",
    "    p.BUF_PARAM_WRITE_LO_NC(0),   # CH4\n",
    "    p.BUF_PARAM_WRITE_HI(0),\n",
    "    p.BUF_PARAM_WRITE_LO_NC(0),   # CH5\n",
    "    p.BUF_PARAM_WRITE_HI(0),\n",
    "    p.BUF_PARAM_WRITE_LO_NC(0),   # CH6\n",
    "    p.BUF_PARAM_WRITE_HI(0),\n",
    "    p.BUF_PARAM_WRITE_LO_NC(0),   # CH7\n",
    "    p.BUF_PARAM_WRITE_HI(0),\n",
    "    p.BUF_STB(4),\n",
    "    p.BUF_DONE(0)\n",
    "]\n",
    "p.S3G_WRITE_FIFO(*a)\n",
    "p.S3G_STB(1)"
   ]
  },
  {
   "cell_type": "code",
   "execution_count": null,
   "metadata": {},
   "outputs": [],
   "source": []
  }
 ],
 "metadata": {
  "kernelspec": {
   "display_name": "Python 3",
   "language": "python",
   "name": "python3"
  },
  "language_info": {
   "codemirror_mode": {
    "name": "ipython",
    "version": 3
   },
   "file_extension": ".py",
   "mimetype": "text/x-python",
   "name": "python",
   "nbconvert_exporter": "python",
   "pygments_lexer": "ipython3",
   "version": "3.7.3"
  }
 },
 "nbformat": 4,
 "nbformat_minor": 4
}
