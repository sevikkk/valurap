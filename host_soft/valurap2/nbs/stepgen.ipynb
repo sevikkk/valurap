{
 "cells": [
  {
   "cell_type": "code",
   "execution_count": 60,
   "metadata": {},
   "outputs": [
    {
     "data": {
      "text/plain": [
       "33"
      ]
     },
     "execution_count": 60,
     "metadata": {},
     "output_type": "execute_result"
    }
   ],
   "source": [
    "from valurap2 import commands\n",
    "import imp\n",
    "imp.reload(commands)\n",
    "\n",
    "p = commands.S3GPort()\n",
    "p.S3G_OUTPUT(63, 33)\n",
    "p.S3G_OUTPUT(7, 0x00000000)\n",
    "p.S3G_INPUT(63)"
   ]
  },
  {
   "cell_type": "code",
   "execution_count": 2,
   "metadata": {},
   "outputs": [
    {
     "data": {
      "text/plain": [
       "(281474976.710656, 562949.9534213119, 50000.0, 1000.0)"
      ]
     },
     "execution_count": 2,
     "metadata": {},
     "output_type": "execute_result"
    }
   ],
   "source": [
    "s_t = 0.001\n",
    "f = 50000000\n",
    "sb = 40\n",
    "\n",
    "n = 400 * 32\n",
    "t = 1\n",
    "\n",
    "v = n * (2 ** sb) / f / t\n",
    "v1 = v * 2\n",
    "n_s = t / s_t\n",
    "a = v1 / n_s\n",
    "dt = f * s_t\n",
    "v, a, dt, n_s"
   ]
  },
  {
   "cell_type": "code",
   "execution_count": null,
   "metadata": {},
   "outputs": [],
   "source": []
  },
  {
   "cell_type": "code",
   "execution_count": 73,
   "metadata": {},
   "outputs": [
    {
     "name": "stdout",
     "output_type": "stream",
     "text": [
      "9 1 23\n",
      "9 1 15\n",
      "9 1 7\n",
      "9 1 0\n",
      "0 0 0\n"
     ]
    }
   ],
   "source": [
    "import time\n",
    "a = [\n",
    "    p.BUF_OUTPUT(0, 50000),        # step time 0.001s\n",
    "    p.BUF_OUTPUT(2, 40),           # step_bit = 40\n",
    "    p.BUF_OUTPUT(3, 100),          # pre_n\n",
    "    p.BUF_OUTPUT(4, 400),          # pulse_n\n",
    "    p.BUF_OUTPUT(5, 500),          # post_n\n",
    "    p.BUF_OUTPUT(7, 0x80808080),   # enable 1 and 2 motors on SG0\n",
    "\n",
    "    p.BUF_OUTPUT(1, 2000),              # steps_val = 2000 (2 seconds)\n",
    "    p.BUF_PARAM_ADDR(0),\n",
    "    p.BUF_PARAM_WRITE_LO(0, 3),           # CH0.STATUS=3 (enable + target_v)\n",
    "    p.BUF_PARAM_WRITE_LO(3, 0),           # CH0.V_OUT=0\n",
    "    p.BUF_PARAM_WRITE_LO(1, 1500000),     # CH0.A\n",
    "    p.BUF_PARAM_WRITE_LO(1, 0),           # CH0.J=0\n",
    "    p.BUF_PARAM_WRITE_LO(1, 0),           # CH0.JJ=0\n",
    "    p.BUF_PARAM_WRITE_LO(1, 2000000000),  # CH0.TARGET_V\n",
    "    p.BUF_PARAM_WRITE_LO(1, 1500000),     # CH0.ABORT_A\n",
    "    p.BUF_PARAM_WRITE_LO_NC(0),   # CH1.STATUS=0\n",
    "    p.BUF_PARAM_WRITE_LO_NC(0),   # CH2\n",
    "    p.BUF_PARAM_WRITE_LO_NC(0),   # CH3\n",
    "    p.BUF_PARAM_WRITE_LO_NC(0),   # CH4\n",
    "    p.BUF_PARAM_WRITE_LO_NC(0),   # CH5\n",
    "    p.BUF_PARAM_WRITE_LO_NC(0),   # CH6\n",
    "    p.BUF_PARAM_WRITE_LO_NC(0),   # CH7\n",
    "    p.BUF_STB(p.STB_ASG_START),   # Start ASG cycles\n",
    "    \n",
    "    p.BUF_WAIT_ALL(p.INT_ASG_LOAD),  # Wait for APG ready for new segment\n",
    "    p.BUF_CLEAR(p.INT_ASG_LOAD),     # Clear pending int\n",
    "    \n",
    "    p.BUF_OUTPUT(1, 3000),           # steps_val = 3000 (3 seconds)\n",
    "    p.BUF_PARAM_ADDR(0),\n",
    "    p.BUF_PARAM_WRITE_LO(0, 3),          # CH0.STATUS=3\n",
    "    p.BUF_PARAM_WRITE_LO(4, -1500000),   # CH0.A\n",
    "    p.BUF_PARAM_WRITE_LO(3, 200000000),  # CH0.TARGET_V\n",
    "    p.BUF_STB(p.STB_ASG_LOAD_DONE),  # Inform ASG, next segment setup is done\n",
    "\n",
    "    p.BUF_WAIT_ALL(p.INT_ASG_LOAD),\n",
    "    p.BUF_CLEAR(p.INT_ASG_LOAD),\n",
    "    \n",
    "    p.BUF_OUTPUT(1, 1000),      # steps_val = 1000 (1 second)\n",
    "    p.BUF_PARAM_ADDR(0),\n",
    "    p.BUF_PARAM_WRITE_LO(0, 3),          # CH0.STATUS=3\n",
    "    p.BUF_PARAM_WRITE_LO(4, -1500000),   # CH0.A\n",
    "    p.BUF_PARAM_WRITE_LO(3, 0),          # CH0.TARGET_V=0\n",
    "    p.BUF_STB(p.STB_ASG_LOAD_DONE),\n",
    "    \n",
    "    p.BUF_WAIT_ALL(p.INT_ASG_LOAD),\n",
    "    p.BUF_CLEAR(p.INT_ASG_LOAD),\n",
    "\n",
    "    p.BUF_OUTPUT(1, 0),         # steps_val = 0 - End of path\n",
    "    p.BUF_STB(p.STB_ASG_LOAD_DONE),\n",
    "    p.BUF_WAIT_ALL(p.INT_ASG_DONE),  # Wait for ASG done\n",
    "    p.BUF_CLEAR(p.INT_ASG_DONE),\n",
    "    \n",
    "    p.BUF_OUTPUT(7, 0x00000000), # disable 1 and 2 motors\n",
    "    p.BUF_DONE(0)                # End of program for BE\n",
    "]\n",
    "\n",
    "p.S3G_STB(p.STB_BE_ABORT)      # Reset BE and ASG just in case\n",
    "p.S3G_STB(p.STB_ASG_ABORT)\n",
    "p.S3G_WRITE_FIFO(*a)           # Send program into FIFO\n",
    "p.S3G_STB(p.STB_BE_START)      # Start execution\n",
    "\n",
    "oa, ob, oc = None, None, None\n",
    "while True:\n",
    "    a = p.S3G_INPUT(p.IN_BE_STATUS)\n",
    "    b = p.S3G_INPUT(p.IN_APG_STATUS)\n",
    "    c = p.S3G_INPUT(p.IN_FIFO_DATA_COUNT)\n",
    "    \n",
    "    if (a,b,c) != (oa, ob, oc):\n",
    "        print(a,b,c)\n",
    "    (oa, ob, oc) = (a,b,c) \n",
    "    if a & 1 == 0:\n",
    "        break\n",
    "    time.sleep(0.01)"
   ]
  }
 ],
 "metadata": {
  "kernelspec": {
   "display_name": "Python 3",
   "language": "python",
   "name": "python3"
  },
  "language_info": {
   "codemirror_mode": {
    "name": "ipython",
    "version": 3
   },
   "file_extension": ".py",
   "mimetype": "text/x-python",
   "name": "python",
   "nbconvert_exporter": "python",
   "pygments_lexer": "ipython3",
   "version": "3.7.3"
  }
 },
 "nbformat": 4,
 "nbformat_minor": 4
}
