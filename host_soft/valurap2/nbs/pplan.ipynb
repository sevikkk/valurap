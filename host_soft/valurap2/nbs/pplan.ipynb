{
 "cells": [
  {
   "cell_type": "code",
   "execution_count": null,
   "metadata": {
    "scrolled": false
   },
   "outputs": [],
   "source": [
    "from valurap2 import gcode\n",
    "from valurap2 import path_planning\n",
    "from valurap2 import emulate\n",
    "\n",
    "from ipywidgets import widgets\n",
    "from ipywidgets import Layout\n",
    "\n",
    "import imp\n",
    "imp.reload(gcode)\n",
    "imp.reload(path_planning)\n",
    "\n",
    "pp = path_planning.PathPlanner()\n",
    "pp.emu_in_loop = True\n",
    "\n",
    "if 1:\n",
    "    speed_k = 1.0\n",
    "    pp.delta_e_err = 50\n",
    "    pp.delta_ve_err = 20\n",
    "    pp.max_ea = 10000\n",
    "    pp.accel_step = 5000\n",
    "else:\n",
    "    pp.delta_e_err = 100\n",
    "    pp.delta_ve_err = 100\n",
    "    pp.max_ea = 20000\n",
    "    pp.accel_step = 5000\n",
    "    speed_k = 10.0\n",
    "\n",
    "all_deltas = []\n",
    "\n",
    "text = widgets.Textarea(layout=Layout(width='auto', height='450px'))\n",
    "display(text)\n",
    "\n",
    "text_val = \"\"\n",
    "total_deltas = {}\n",
    "\n",
    "if 1:\n",
    "    #fn = \"test18.gcode\"\n",
    "    fn = \"box20_void_dual.gcode\"\n",
    "    pp.gen_layers(fn, speed_k=speed_k)\n",
    "else:\n",
    "    #sg = gcode.file_reader(\"helmet.gcode\")\n",
    "    sg = gcode.file_reader(\"test18.gcode\")\n",
    "    for s in sg:\n",
    "        if isinstance(s, gcode.do_segment):\n",
    "            hdr = \"############# L{} - L{} ###############\".format(s.path[0][4], s.path[-1][4])\n",
    "            print(\"\\n\\n{}\\n\".format(hdr))\n",
    "            text.value = hdr + \"\\n...\\n...\\n\" + text_val\n",
    "\n",
    "            print(\"path len:\", len(s.path), s.path[0:2])\n",
    "            try:\n",
    "                path, slowdowns = pp.make_path(s.path, speed_k=speed_k)\n",
    "                if path is None:\n",
    "                    continue\n",
    "                #print(path)\n",
    "                #print(slowdowns)\n",
    "                slowdowns, updated, cc = pp.process_corner_errors(path, slowdowns)\n",
    "                slowdowns, updated = pp.reverse_pass(path, slowdowns)\n",
    "                slowdowns, updated = pp.forward_pass(path, slowdowns)\n",
    "                df, profile = pp.gen_segments_float(path, slowdowns)\n",
    "                print(pp.max_deltas)\n",
    "                md_str = []\n",
    "                td_str = []\n",
    "                for k,v in pp.max_deltas.items():\n",
    "                    md_str.append(\"{}: {:10.3f}\".format(k, v))\n",
    "                    total_deltas[k] = max(total_deltas.get(k, 0), v)\n",
    "                    td_str.append(\"{}: {:10.3f}\".format(k, total_deltas[k]))\n",
    "                text.value = (hdr + \"\\n\" + \" \".join(md_str) + \"\\n\" + \" \".join(td_str) + \"\\n\" + text_val)[:10000]\n",
    "                text_val = text.value\n",
    "\n",
    "                all_deltas.append(pp.max_deltas.copy())\n",
    "            except Exception:\n",
    "                pp.print_msg_buf()\n",
    "                raise"
   ]
  },
  {
   "cell_type": "code",
   "execution_count": null,
   "metadata": {
    "scrolled": false
   },
   "outputs": [],
   "source": [
    "import os.path\n",
    "import pickle\n",
    "\n",
    "#base_fn = \"align3\"\n",
    "base_fn = \"test18\"\n",
    "base_fn = \"box20_void_dual\"\n",
    "layer = 0\n",
    "while True:\n",
    "    fn = \"{}_{:05d}.layer\".format(base_fn, layer)\n",
    "    if not os.path.exists(fn):\n",
    "        break\n",
    "    print(fn)\n",
    "    data = pickle.load(open(fn, \"rb\"))\n",
    "    for d in data:\n",
    "        if d[0] == \"segment\":\n",
    "            print(d[0], len(d), len(d[1]), len(d[2]))\n",
    "            for p in d[2][:5]:\n",
    "                print(\"   \", p)\n",
    "        else:\n",
    "            print(d[0], len(d))\n",
    "    layer += 1\n",
    "    if layer > 20:\n",
    "        break"
   ]
  },
  {
   "cell_type": "code",
   "execution_count": null,
   "metadata": {},
   "outputs": [],
   "source": [
    "steps = emulate.emulate(profile, apg_states=pp.apg_states, no_tracking=False)\n",
    "display(steps)"
   ]
  },
  {
   "cell_type": "code",
   "execution_count": null,
   "metadata": {},
   "outputs": [],
   "source": [
    "%matplotlib notebook\n",
    "import matplotlib.pyplot as plt\n",
    "#steps.plot(x=\"t\", y=[\"apg5_v\"], style=\"*\")\n",
    "steps.plot(x=\"apg1_x\", y=[\"apg2_x\"], style=\"*\")"
   ]
  },
  {
   "cell_type": "code",
   "execution_count": null,
   "metadata": {
    "scrolled": true
   },
   "outputs": [],
   "source": [
    "from valurap2 import buf_commands\n",
    "import pickle\n",
    "\n",
    "imp.reload(buf_commands)\n",
    "cb = buf_commands.CommandBuffer(debug=True)\n",
    "cb.add_segments_head(pp)\n",
    "cb.add_segments(profile)\n",
    "cb.add_segments_foot()\n",
    "#print(list(cb.buffer))\n",
    "pickle.dump(list(cb.buffer), open(\"commands.pck\", \"wb\"))"
   ]
  },
  {
   "cell_type": "code",
   "execution_count": null,
   "metadata": {},
   "outputs": [],
   "source": [
    "import pandas\n",
    "import numpy\n",
    "import imp\n",
    "from valurap2 import path_planning\n",
    "\n",
    "imp.reload(path_planning)\n",
    "pp = path_planning.PathPlanner()\n",
    "pp.spms = pp.print_spms\n",
    "pp.init_apgs()\n",
    "print(pp.apg_states)\n",
    "\n",
    "pp.ext_to_code([100], axes=[\"X1\"])"
   ]
  },
  {
   "cell_type": "code",
   "execution_count": null,
   "metadata": {},
   "outputs": [],
   "source": [
    "from valurap2 import rest_client\n",
    "\n",
    "rc = rest_client.Client()\n",
    "rc.home()\n",
    "rc.wait_idle()\n",
    "rc.moveto(X1=0, X2=0, Y=0)\n",
    "rc.move(E1=10, E2=10)\n",
    "rc.wait_idle()\n",
    "rc.exec_binary(cb.buffer)\n",
    "rc.wait_idle()\n"
   ]
  },
  {
   "cell_type": "code",
   "execution_count": null,
   "metadata": {},
   "outputs": [],
   "source": [
    "rc.exec_binary(cb.buffer)"
   ]
  },
  {
   "cell_type": "code",
   "execution_count": null,
   "metadata": {},
   "outputs": [],
   "source": []
  }
 ],
 "metadata": {
  "kernelspec": {
   "display_name": "Python 3",
   "language": "python",
   "name": "python3"
  },
  "language_info": {
   "codemirror_mode": {
    "name": "ipython",
    "version": 3
   },
   "file_extension": ".py",
   "mimetype": "text/x-python",
   "name": "python",
   "nbconvert_exporter": "python",
   "pygments_lexer": "ipython3",
   "version": "3.7.9"
  }
 },
 "nbformat": 4,
 "nbformat_minor": 2
}
