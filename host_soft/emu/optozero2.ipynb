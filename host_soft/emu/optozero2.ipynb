{
 "cells": [
  {
   "cell_type": "code",
   "execution_count": 61,
   "metadata": {},
   "outputs": [
    {
     "name": "stdout",
     "output_type": "stream",
     "text": [
      "pos: [[ 8.3331625  -2.40179824]]\n",
      "pos: 6.268417703455624 -2.390630917297481\n",
      "pos: [[ 6.36514688 -4.61570195]]\n"
     ]
    }
   ],
   "source": [
    "from numpy import array, matrix\n",
    "import numpy as np\n",
    "from numpy.linalg import norm\n",
    "import cv2\n",
    "\n",
    "calibration_deltas = [\n",
    "        [0, 2],\n",
    "        [-2, 0],\n",
    "        [0, -2],\n",
    "        [2, 0],\n",
    "    ]\n",
    "\n",
    "real_deltas = [(array([[ 0.07756828],\n",
    "       [ 0.1786342 ],\n",
    "       [-0.59814394]]), array([[ 1.14582025],\n",
    "       [ 0.96075193],\n",
    "       [46.07202493]])), (array([[ 0.07691028],\n",
    "       [ 0.17765469],\n",
    "       [-0.59832595]]), array([[ 2.77658253],\n",
    "       [-0.14365935],\n",
    "       [45.64560659]])), (array([[ 0.08125201],\n",
    "       [ 0.17536972],\n",
    "       [-0.59797618]]), array([[ 3.78618131],\n",
    "       [ 1.60052543],\n",
    "       [45.6170591 ]])), (array([[ 0.08087195],\n",
    "       [ 0.17526516],\n",
    "       [-0.59759246]]), array([[ 2.15066374],\n",
    "       [ 2.7019623 ],\n",
    "       [46.03543564]])), (array([[ 0.07718758],\n",
    "       [ 0.1778944 ],\n",
    "       [-0.5976874 ]]), array([[ 1.11821013],\n",
    "       [ 0.96451349],\n",
    "       [46.04776539]]))]\n",
    "\n",
    "rvec, tvec = real_deltas[0]\n",
    "rmat = cv2.Rodrigues(rvec)[0]\n",
    "position_camera = -np.matrix(rmat).T * np.matrix(tvec)\n",
    "print(\"pos:\", position_camera[:2,0].T[0])\n",
    "\n",
    "rvec, tvec = real_deltas[1]\n",
    "rmat = cv2.Rodrigues(rvec)[0]\n",
    "position_camera = -np.matrix(rmat).T * np.matrix(tvec)\n",
    "dx = position_camera[0,0]\n",
    "dy = position_camera[1,0 ]\n",
    "print(\"pos:\", dx, dy)\n",
    "\n",
    "rvec, tvec = real_deltas[2]\n",
    "rmat = cv2.Rodrigues(rvec)[0]\n",
    "position_camera = -np.matrix(rmat).T * np.matrix(tvec)\n",
    "print(\"pos:\", position_camera[:2,0].T[0])\n",
    "\n"
   ]
  }
 ],
 "metadata": {
  "kernelspec": {
   "display_name": "Python 3",
   "language": "python",
   "name": "python3"
  },
  "language_info": {
   "codemirror_mode": {
    "name": "ipython",
    "version": 3
   },
   "file_extension": ".py",
   "mimetype": "text/x-python",
   "name": "python",
   "nbconvert_exporter": "python",
   "pygments_lexer": "ipython3",
   "version": "3.7.2"
  }
 },
 "nbformat": 4,
 "nbformat_minor": 2
}
