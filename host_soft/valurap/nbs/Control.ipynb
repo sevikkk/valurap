{
 "cells": [
  {
   "cell_type": "code",
   "execution_count": 33,
   "metadata": {},
   "outputs": [
    {
     "name": "stdout",
     "output_type": "stream",
     "text": [
      "Executing reset code\n"
     ]
    }
   ],
   "source": [
    "import valurap.commands as vac\n",
    "import valurap.printer as vp\n",
    "import valurap.axes as vax\n",
    "import valurap.apgs as vap\n",
    "import valurap.path_planning as vapp\n",
    "\n",
    "from importlib import reload\n",
    "reload(vac)\n",
    "reload(vax)\n",
    "reload(vap)\n",
    "reload(vp)\n",
    "reload(vapp)\n",
    "\n",
    "p = vp.Valurap()\n",
    "p.setup()"
   ]
  },
  {
   "cell_type": "code",
   "execution_count": 13,
   "metadata": {
    "scrolled": true
   },
   "outputs": [
    {
     "name": "stdout",
     "output_type": "stream",
     "text": [
      "SetPositions: {'Z': 19997.69921875}\n",
      "Move: {'Z': 30000}\n",
      "Save position: Z 19996.69921875\n",
      "homing: [<valurap.axes.AxeX1 object at 0xae4b5190>, <valurap.axes.AxeX2 object at 0xae4b5170>, <valurap.axes.AxeY object at 0xae4b51b0>]\n",
      "SetPositions: {'X1': 13200, 'X2': -14000, 'Y': -22500}\n",
      "homing: [<valurap.axes.AxeX1 object at 0xae4b5190>, <valurap.axes.AxeX2 object at 0xae4b5170>, <valurap.axes.AxeY object at 0xae4b51b0>]\n",
      "X1 already on endstop\n",
      "X2 already on endstop\n",
      "SetPositions: {'Y': -22500}\n",
      "homing: [<valurap.axes.AxeX1 object at 0xae4b5190>, <valurap.axes.AxeX2 object at 0xae4b5170>, <valurap.axes.AxeY object at 0xae4b51b0>]\n",
      "X1 already on endstop\n",
      "X2 already on endstop\n",
      "Y already on endstop\n",
      "All axes on endstops, skipping\n",
      "SetPositions: {'X1': 13200}\n",
      "Move: {'X1': -3000}\n",
      "homing: [<valurap.axes.AxeX1 object at 0xae4b5190>]\n",
      "SetPositions: {'X1': 13200}\n",
      "homing: [<valurap.axes.AxeX1 object at 0xae4b5190>]\n",
      "X1 already on endstop\n",
      "All axes on endstops, skipping\n",
      "SetPositions: {'X2': -14000}\n",
      "Move: {'X2': 3000}\n",
      "homing: [<valurap.axes.AxeX2 object at 0xae4b5170>]\n",
      "SetPositions: {'X2': -14000}\n",
      "homing: [<valurap.axes.AxeX2 object at 0xae4b5170>]\n",
      "X2 already on endstop\n",
      "All axes on endstops, skipping\n",
      "SetPositions: {'Y': -22500}\n",
      "Move: {'Y': 3000}\n",
      "homing: [<valurap.axes.AxeY1 object at 0xae4b51d0>, <valurap.axes.AxeY2 object at 0xae4b51f0>]\n",
      "SetPositions: {'Y1': 0, 'Y2': 0}\n",
      "homing: [<valurap.axes.AxeY1 object at 0xae4b51d0>, <valurap.axes.AxeY2 object at 0xae4b51f0>]\n",
      "Y1 already on endstop\n",
      "Y2 already on endstop\n",
      "All axes on endstops, skipping\n",
      "homing: [<valurap.axes.AxeZ object at 0xae4b5290>]\n",
      "SetPositions: {'Z': 19996.69921875}\n",
      "homing: [<valurap.axes.AxeZ object at 0xae4b5290>]\n",
      "Z already on endstop\n",
      "All axes on endstops, skipping\n",
      "SetPositions: {'Z': 19996.69921875}\n",
      "Move: {'Z': 2000}\n",
      "Save position: Z 19995.69921875\n",
      "homing: [<valurap.axes.AxeBLZ object at 0xae4b52b0>]\n",
      "SetPositions: {'BLZ': 0}\n",
      "homing: [<valurap.axes.AxeBLZ object at 0xae4b52b0>]\n",
      "BLZ already on endstop\n",
      "All axes on endstops, skipping\n",
      "homing: [<valurap.axes.AxeBRZ object at 0xae4b52d0>]\n",
      "SetPositions: {'BRZ': 0}\n",
      "homing: [<valurap.axes.AxeBRZ object at 0xae4b52d0>]\n",
      "BRZ already on endstop\n",
      "All axes on endstops, skipping\n",
      "homing: [<valurap.axes.AxeFLZ object at 0xae4b52f0>]\n",
      "SetPositions: {'FLZ': 0}\n",
      "homing: [<valurap.axes.AxeFLZ object at 0xae4b52f0>]\n",
      "FLZ already on endstop\n",
      "All axes on endstops, skipping\n",
      "homing: [<valurap.axes.AxeFRZ object at 0xae4b5310>]\n",
      "SetPositions: {'FRZ': 0}\n",
      "homing: [<valurap.axes.AxeFRZ object at 0xae4b5310>]\n",
      "FRZ already on endstop\n",
      "All axes on endstops, skipping\n",
      "SetPositions: {'BRZ': 0}\n",
      "Move: {'BRZ': 1280}\n",
      "SetPositions: {'BLZ': 0}\n",
      "Move: {'BLZ': -40}\n",
      "SetPositions: {'FLZ': 0}\n",
      "Move: {'FLZ': 4320}\n",
      "SetPositions: {'FRZ': 0}\n",
      "Move: {'FRZ': 2160}\n",
      "SetPositions: {'Z': 0}\n",
      "SetPositions: {'Z': 0}\n",
      "Move: {'Z': 20000}\n",
      "Save position: Z 19997.69921875\n",
      "SetPositions: {'X1': 13200, 'X2': -14000, 'Y': -22500}\n",
      "SetPositions: {'X1': 13200, 'X2': -14000, 'Y': -22500}\n",
      "MoveTo: {'X1': 12700, 'X2': -13500, 'Y': -20000}\n",
      "Move: {'X1': -500.0, 'X2': 500.0, 'Y': 2500.0}\n"
     ]
    }
   ],
   "source": [
    "p.home()"
   ]
  },
  {
   "cell_type": "code",
   "execution_count": 5,
   "metadata": {},
   "outputs": [
    {
     "name": "stdout",
     "output_type": "stream",
     "text": [
      "MoveTo: {'X1': 0, 'Y': 0}\n",
      "Save position: X1 12698.84765625\n",
      "Save position: X2 -13501.1484375\n",
      "Save position: Y -20001.1484375\n",
      "Move: {'X1': -12698.84765625, 'Y': 20001.1484375}\n"
     ]
    }
   ],
   "source": [
    "lf = {\"X1\": -10800, \"Y\": 8800}\n",
    "lb = {\"X1\": 10800, \"Y\": 8800}\n",
    "rf = {\"X1\": -10800, \"Y\": -8800}\n",
    "rb = {\"X1\": 10800, \"Y\": -8800}\n",
    "center = {\"X1\": 0, \"Y\": 0}\n",
    "p.moveto(**center)"
   ]
  },
  {
   "cell_type": "code",
   "execution_count": 435,
   "metadata": {},
   "outputs": [
    {
     "name": "stdout",
     "output_type": "stream",
     "text": [
      "Move: {'Z': 80.0}\n",
      "[{'name': 'X1', 'x': -10800.4140625, 'v': 0}, {'name': 'Y', 'x': -8807.44140625, 'v': 0}, {'name': 'Z', 'x': -17200.21875, 'v': 0}]\n"
     ]
    }
   ],
   "source": [
    "p.move(Z=1600*0.05)\n",
    "print(p.get_state())"
   ]
  },
  {
   "cell_type": "code",
   "execution_count": 442,
   "metadata": {},
   "outputs": [
    {
     "name": "stdout",
     "output_type": "stream",
     "text": [
      "MoveTo: {'Z': -16000}\n",
      "Move: {'Z': 1200.03515625}\n",
      "[{'name': 'X1', 'x': -0.41015625, 'v': 0}, {'name': 'Y', 'x': -0.4140625, 'v': 0}, {'name': 'Z', 'x': -16000.2578125, 'v': 0}]\n"
     ]
    }
   ],
   "source": [
    "p.moveto(Z=-16000)\n",
    "print(p.get_state())"
   ]
  },
  {
   "cell_type": "code",
   "execution_count": 144,
   "metadata": {},
   "outputs": [
    {
     "name": "stdout",
     "output_type": "stream",
     "text": [
      "SetPositions: {'X1': 13200, 'X2': -14000, 'Y': -22500}\n"
     ]
    }
   ],
   "source": [
    "p.axe_x1.enabled=False\n",
    "p.axe_y.enabled=False\n",
    "p.update_axes_config()\n"
   ]
  },
  {
   "cell_type": "code",
   "execution_count": 462,
   "metadata": {},
   "outputs": [
    {
     "name": "stdout",
     "output_type": "stream",
     "text": [
      "MoveTo: {'Z': 4450.0}\n",
      "Save position: X1 -1.41015625\n",
      "Save position: X2 -13502.1484375\n",
      "Save position: Y -1.41015625\n",
      "SetPositions: {'X2': -13502.1484375, 'Y': -1.41015625, 'Z': 19997.69921875}\n",
      "Move: {'Z': -15546.69921875}\n",
      "Save position: X2 -13503.1484375\n",
      "Save position: Y -2.41015625\n",
      "Save position: Z 19996.69921875\n"
     ]
    }
   ],
   "source": [
    "p.moveto(Z=4450 + 0.0*1600)\n"
   ]
  },
  {
   "cell_type": "code",
   "execution_count": 461,
   "metadata": {},
   "outputs": [
    {
     "name": "stdout",
     "output_type": "stream",
     "text": [
      "SetPositions: {'X1': -0.41015625, 'X2': -13501.1484375, 'Y': -0.41015625}\n"
     ]
    }
   ],
   "source": [
    "p.axe_e1.max_v=100000\n",
    "p.axe_e1.enabled=True\n",
    "p.update_axes_config()"
   ]
  },
  {
   "cell_type": "code",
   "execution_count": 463,
   "metadata": {
    "scrolled": true
   },
   "outputs": [
    {
     "name": "stdout",
     "output_type": "stream",
     "text": [
      "Move: {'X1': 16000.0, 'E1': -14000.0}\n",
      "Save position: Z 4448.69140625\n",
      "SetPositions: {'X1': -1.41015625, 'E1': 0, 'Z': 4448.69140625}\n",
      "Move: {'Y': -16000.0, 'E1': -14000.0}\n",
      "Save position: X1 15997.56640625\n",
      "Save position: E1 -14001.0390625\n",
      "Save position: Z 4447.69140625\n",
      "SetPositions: {'Y': -2.41015625, 'E1': -14001.0390625, 'Z': 4447.69140625}\n",
      "Move: {'X1': -15800.0, 'E1': -13825.0}\n",
      "Save position: Y -16003.45703125\n",
      "Save position: E1 -28002.078125\n",
      "Save position: Z 4446.69140625\n",
      "SetPositions: {'X1': 15997.56640625, 'E1': -28002.078125, 'Z': 4446.69140625}\n",
      "Move: {'Y': 15800.0, 'E1': -13825.0}\n",
      "Save position: X1 196.51953125\n",
      "Save position: E1 -41828.1015625\n",
      "Save position: Z 4445.69140625\n",
      "SetPositions: {'Y': -16003.45703125, 'E1': -41828.1015625, 'Z': 4445.69140625}\n"
     ]
    }
   ],
   "source": [
    "p.axe_e1.max_v=600000\n",
    "#e_vol = -4700\n",
    "e_vol = -7000\n",
    "\n",
    "for i in range(0, 1):\n",
    "    k = 2 - 0.05 * i\n",
    "    k2 = 2 - 0.05 * (i + 0.5)\n",
    "    p.move(X1=k*8000,E1=e_vol*k)\n",
    "    p.move(Y=-k*8000,E1=e_vol*k)\n",
    "    p.move(X1=-k2*8000,E1=e_vol*k2)\n",
    "    p.move(Y=k2*8000,E1=e_vol*k2)\n",
    "    #p.move(BRZ= -100)\n"
   ]
  },
  {
   "cell_type": "code",
   "execution_count": 8,
   "metadata": {},
   "outputs": [
    {
     "name": "stdout",
     "output_type": "stream",
     "text": [
      "MoveTo: {'X1': 0}\n",
      "Save position: E2 1498.94140625\n",
      "SetPositions: {'X1': 13200, 'Y': -22500, 'E2': 1498.94140625}\n",
      "Move: {'X1': -13200.0}\n",
      "Save position: E2 1497.94140625\n",
      "MoveTo: {'Y': 0}\n",
      "Save position: X1 -1.41015625\n",
      "Move: {'Y': 22500.0}\n"
     ]
    }
   ],
   "source": [
    "p.moveto(X1=0)\n",
    "p.moveto(Y=0)\n"
   ]
  },
  {
   "cell_type": "code",
   "execution_count": 14,
   "metadata": {},
   "outputs": [
    {
     "name": "stdout",
     "output_type": "stream",
     "text": [
      "MoveTo: {'X1': -8000, 'Y': 7000}\n",
      "Save position: X1 12698.84765625\n",
      "Save position: X2 -13501.1484375\n",
      "Save position: Y -20001.1484375\n",
      "Move: {'X1': -20698.84765625, 'Y': 27001.1484375}\n"
     ]
    }
   ],
   "source": [
    "p.moveto(X1=-8000, Y=7000)\n"
   ]
  },
  {
   "cell_type": "code",
   "execution_count": 161,
   "metadata": {},
   "outputs": [
    {
     "name": "stdout",
     "output_type": "stream",
     "text": [
      "MoveTo: {'X1': 0}\n",
      "Save position: Y -1004.66796875\n",
      "Save position: E1 -186914.53125\n",
      "Save position: Z 4592.69921875\n",
      "SetPositions: {'X1': 996.30078125, 'E1': -186914.53125, 'Z': 4592.69921875}\n",
      "Move: {'X1': -996.30078125}\n",
      "Save position: Z 4591.69921875\n",
      "MoveTo: {'y': -10000}\n",
      "Save position: X1 -1.05859375\n"
     ]
    },
    {
     "ename": "KeyError",
     "evalue": "'y'",
     "output_type": "error",
     "traceback": [
      "\u001b[0;31m---------------------------------------------------------------------------\u001b[0m",
      "\u001b[0;31mKeyError\u001b[0m                                  Traceback (most recent call last)",
      "\u001b[0;32m<ipython-input-161-6f043e179ff7>\u001b[0m in \u001b[0;36m<module>\u001b[0;34m\u001b[0m\n\u001b[1;32m      1\u001b[0m \u001b[0mp\u001b[0m\u001b[0;34m.\u001b[0m\u001b[0mmoveto\u001b[0m\u001b[0;34m(\u001b[0m\u001b[0mX1\u001b[0m\u001b[0;34m=\u001b[0m\u001b[0;36m0\u001b[0m\u001b[0;34m)\u001b[0m\u001b[0;34m\u001b[0m\u001b[0;34m\u001b[0m\u001b[0m\n\u001b[0;32m----> 2\u001b[0;31m \u001b[0mp\u001b[0m\u001b[0;34m.\u001b[0m\u001b[0mmoveto\u001b[0m\u001b[0;34m(\u001b[0m\u001b[0my\u001b[0m\u001b[0;34m=\u001b[0m\u001b[0;34m-\u001b[0m\u001b[0;36m10000\u001b[0m\u001b[0;34m)\u001b[0m\u001b[0;34m\u001b[0m\u001b[0;34m\u001b[0m\u001b[0m\n\u001b[0m",
      "\u001b[0;32m~/src/sevasoft/valurap/host_soft/valurap/valurap/printer.py\u001b[0m in \u001b[0;36mmoveto\u001b[0;34m(self, **point)\u001b[0m\n\u001b[1;32m    522\u001b[0m     \u001b[0;32mdef\u001b[0m \u001b[0mmoveto\u001b[0m\u001b[0;34m(\u001b[0m\u001b[0mself\u001b[0m\u001b[0;34m,\u001b[0m \u001b[0;34m**\u001b[0m\u001b[0mpoint\u001b[0m\u001b[0;34m)\u001b[0m\u001b[0;34m:\u001b[0m\u001b[0;34m\u001b[0m\u001b[0;34m\u001b[0m\u001b[0m\n\u001b[1;32m    523\u001b[0m         \u001b[0mprint\u001b[0m\u001b[0;34m(\u001b[0m\u001b[0;34m\"MoveTo:\"\u001b[0m\u001b[0;34m,\u001b[0m \u001b[0mpoint\u001b[0m\u001b[0;34m)\u001b[0m\u001b[0;34m\u001b[0m\u001b[0;34m\u001b[0m\u001b[0m\n\u001b[0;32m--> 524\u001b[0;31m         \u001b[0mself\u001b[0m\u001b[0;34m.\u001b[0m\u001b[0massign_apgs\u001b[0m\u001b[0;34m(\u001b[0m\u001b[0mpoint\u001b[0m\u001b[0;34m.\u001b[0m\u001b[0mkeys\u001b[0m\u001b[0;34m(\u001b[0m\u001b[0;34m)\u001b[0m\u001b[0;34m)\u001b[0m\u001b[0;34m\u001b[0m\u001b[0;34m\u001b[0m\u001b[0m\n\u001b[0m\u001b[1;32m    525\u001b[0m         \u001b[0margs\u001b[0m \u001b[0;34m=\u001b[0m \u001b[0;34m{\u001b[0m\u001b[0;34m}\u001b[0m\u001b[0;34m\u001b[0m\u001b[0;34m\u001b[0m\u001b[0m\n\u001b[1;32m    526\u001b[0m         \u001b[0mstate\u001b[0m \u001b[0;34m=\u001b[0m \u001b[0mself\u001b[0m\u001b[0;34m.\u001b[0m\u001b[0mget_state\u001b[0m\u001b[0;34m(\u001b[0m\u001b[0;34m)\u001b[0m\u001b[0;34m\u001b[0m\u001b[0;34m\u001b[0m\u001b[0m\n",
      "\u001b[0;32m~/src/sevasoft/valurap/host_soft/valurap/valurap/printer.py\u001b[0m in \u001b[0;36massign_apgs\u001b[0;34m(self, axes_names)\u001b[0m\n\u001b[1;32m    217\u001b[0m         \u001b[0mneeds_apg\u001b[0m \u001b[0;34m=\u001b[0m \u001b[0;34m[\u001b[0m\u001b[0;34m]\u001b[0m\u001b[0;34m\u001b[0m\u001b[0;34m\u001b[0m\u001b[0m\n\u001b[1;32m    218\u001b[0m         \u001b[0;32mfor\u001b[0m \u001b[0mname\u001b[0m \u001b[0;32min\u001b[0m \u001b[0maxes_names\u001b[0m\u001b[0;34m:\u001b[0m\u001b[0;34m\u001b[0m\u001b[0;34m\u001b[0m\u001b[0m\n\u001b[0;32m--> 219\u001b[0;31m             \u001b[0maxis\u001b[0m \u001b[0;34m=\u001b[0m \u001b[0mself\u001b[0m\u001b[0;34m.\u001b[0m\u001b[0maxes\u001b[0m\u001b[0;34m[\u001b[0m\u001b[0mname\u001b[0m\u001b[0;34m]\u001b[0m\u001b[0;34m\u001b[0m\u001b[0;34m\u001b[0m\u001b[0m\n\u001b[0m\u001b[1;32m    220\u001b[0m             \u001b[0;32mif\u001b[0m \u001b[0maxis\u001b[0m\u001b[0;34m.\u001b[0m\u001b[0mapg\u001b[0m\u001b[0;34m:\u001b[0m\u001b[0;34m\u001b[0m\u001b[0;34m\u001b[0m\u001b[0m\n\u001b[1;32m    221\u001b[0m                 \u001b[0;32mtry\u001b[0m\u001b[0;34m:\u001b[0m\u001b[0;34m\u001b[0m\u001b[0;34m\u001b[0m\u001b[0m\n",
      "\u001b[0;31mKeyError\u001b[0m: 'y'"
     ]
    }
   ],
   "source": [
    "p.moveto(X1=0)\n",
    "p.moveto(Y=-10000)\n"
   ]
  },
  {
   "cell_type": "code",
   "execution_count": 45,
   "metadata": {},
   "outputs": [
    {
     "name": "stdout",
     "output_type": "stream",
     "text": [
      "Move: {'Z': -320.0}\n",
      "Save position: Z 4771.01171875\n",
      "[{'name': 'X1', 'x': -9000.41015625, 'v': 0}, {'name': 'Y', 'x': 6999.58984375, 'v': 0}, {'name': 'Z', 'x': 4449.8828125, 'v': 0}]\n"
     ]
    }
   ],
   "source": [
    "p.moveto(X1=0)\n",
    "p.move(Z=-1600*0.2)\n",
    "print(p.get_state())"
   ]
  },
  {
   "cell_type": "code",
   "execution_count": 22,
   "metadata": {},
   "outputs": [
    {
     "name": "stdout",
     "output_type": "stream",
     "text": [
      "Move: {'Z': 1600}\n",
      "Save position: Z 31191.77734375\n"
     ]
    }
   ],
   "source": [
    "p.move(Z=1600*1)\n"
   ]
  },
  {
   "cell_type": "code",
   "execution_count": 552,
   "metadata": {},
   "outputs": [
    {
     "name": "stdout",
     "output_type": "stream",
     "text": [
      "SetPositions: {'X1': 1058.9375, 'Y': -14862.39453125, 'E1': -1504507.50390625}\n"
     ]
    }
   ],
   "source": [
    "c = [b'\\x01\\x00\\x00\\x00@', b'!\\x00\\x00\\x00A', b'P\\xc3\\x00\\x00B', b'\\x00\\x00\\x00\\x00K', b'\\xc82\\xca\\x0eL', b'\\x8f\\x88\\x1a\\xffM', b'\\x00\\x00\\x00\\x00S', b'\\x00\\x00\\x00\\x00T', b'\\x00\\x00\\x00\\x00U', b'\\x80\\xe5\\xf9\\xffZ', b'\\x00\\x00\\x00\\x00[', b'\\x00\\x00\\x00\\x00\\\\', b'\\x00\\x00\\x00\\x00]', b'\\x0f\\x1c\\x1c\\x1eC', b'\\x01\\x00\\x00\\x00\\x81', b'\\x9e\\x07\\x00\\x00A', b'E\\x93\\n\\x00J', b'\\x00\\x00\\x00\\x00L', b'\\x00\\x00\\x00\\x00M', b'\\x0f\\xe9\\xff\\xffR', b'\\x05\\x1e\\x1e\\x1eC', b'\\x01\\x00\\x00\\x00\\x82', b'\\x03\\x00\\x00\\x00\\x84', b'\\x01\\x00\\x00\\x00\\x81', b'\"\\x00\\x00\\x00A', b'-\\xcc\\xf2\\xf1L', b'\\xa3\\x99\\xd3\\x00M', b'\\x02\\xba/\\xf2T', b'\\x1e\\x04\\xd0\\x00U', b'\\x05\\x1c\\x1c\\x1eC', b'\\x01\\x00\\x00\\x00\\x82', b'\\x03\\x00\\x00\\x00\\x84', b'\\x01\\x00\\x00\\x00\\x81', b'\\x8d\\x07\\x00\\x00A', b'v\\xe8\\xff\\xffJ', b'\\x00\\x00\\x00\\x00L', b'\\x00\\x00\\x00\\x00M', b'\\xf7l\\xf5\\xffR', b'\\x00\\x00\\x00\\x00T', b'\\x00\\x00\\x00\\x00U', b'\\x05\\x1e\\x1e\\x1eC', b'\\x01\\x00\\x00\\x00\\x82', b'\\x03\\x00\\x00\\x00\\x84', b'\\x01\\x00\\x00\\x00\\x81', b'\"\\x00\\x00\\x00A', b'X\\x850\\xf2L', b'(\\xf8\\xcf\\x00M', b'\\x12\\xe4\\x0c\\x0eT', b'\\x0ek,\\xffU', b'\\x05\\x1c\\x1c\\x1eC', b'\\x01\\x00\\x00\\x00\\x82', b'\\x03\\x00\\x00\\x00\\x84', b'\\x01\\x00\\x00\\x00\\x81', b't\\x07\\x00\\x00A', b'\\xacl\\xf5\\xffJ', b'\\x00\\x00\\x00\\x00L', b'\\x00\\x00\\x00\\x00M', b'\\xd9\\x17\\x00\\x00R', b'\\x00\\x00\\x00\\x00T', b'\\x00\\x00\\x00\\x00U', b'\\x05\\x1e\\x1e\\x1eC', b'\\x01\\x00\\x00\\x00\\x82', b'\\x03\\x00\\x00\\x00\\x84', b'\\x01\\x00\\x00\\x00\\x81', b'\"\\x00\\x00\\x00A', b'\\xbfG\\r\\x0eL', b'1e,\\xffM', b'\\xbc\\x11\\xcf\\rT', b'\\x04\\x0e0\\xffU', b'\\x05\\x1c\\x1c\\x1eC', b'\\x01\\x00\\x00\\x00\\x82', b'\\x03\\x00\\x00\\x00\\x84', b'\\x01\\x00\\x00\\x00\\x81', b't\\x07\\x00\\x00A', b'\\xd8\\x17\\x00\\x00J', b'\\x00\\x00\\x00\\x00L', b'\\x00\\x00\\x00\\x00M', b'S\\x93\\n\\x00R', b'\\x00\\x00\\x00\\x00T', b'\\x00\\x00\\x00\\x00U', b'\\x05\\x1e\\x1e\\x1eC', b'\\x01\\x00\\x00\\x00\\x82', b'\\x03\\x00\\x00\\x00\\x84', b'\\x01\\x00\\x00\\x00\\x81', b'\"\\x00\\x00\\x00A', b'\\x10\\x13\\xcf\\rL', b'\\xf0\\r0\\xffM', b'\\x95\\xb9\\xf2\\xf1T', b'\\xbb\\x9a\\xd3\\x00U', b'\\x05\\x1c\\x1c\\x1eC', b'\\x01\\x00\\x00\\x00\\x82', b'\\x03\\x00\\x00\\x00\\x84', b'\\x01\\x00\\x00\\x00\\x81', b'[\\x07\\x00\\x00A', b'\\xa0\\x93\\n\\x00J', b'\\x00\\x00\\x00\\x00L', b'\\x00\\x00\\x00\\x00M', b'\\xd7\\xe7\\xff\\xffR', b'\\x00\\x00\\x00\\x00T', b'\\x00\\x00\\x00\\x00U', b'\\x05\\x1e\\x1e\\x1eC', b'\\x01\\x00\\x00\\x00\\x82', b'\\x03\\x00\\x00\\x00\\x84', b'\\x01\\x00\\x00\\x00\\x81', b'\"\\x00\\x00\\x00A', b'@S\\xf2\\xf1L', b'\\xc0\\xa0\\xd3\\x00M', b'\\x95X1\\xf2T', b'\\xbb\\xeb\\xcf\\x00U', b'\\x05\\x1c\\x1c\\x1eC', b'\\x01\\x00\\x00\\x00\\x82', b'\\x03\\x00\\x00\\x00\\x84', b'\\x01\\x00\\x00\\x00\\x81', b'[\\x07\\x00\\x00A', b'\\xd8\\xe7\\xff\\xffJ', b'\\x00\\x00\\x00\\x00L', b'\\x00\\x00\\x00\\x00M', b'al\\xf5\\xffR', b'\\x00\\x00\\x00\\x00T', b'\\x00\\x00\\x00\\x00U', b'\\x05\\x1e\\x1e\\x1eC', b'\\x01\\x00\\x00\\x00\\x82', b'\\x03\\x00\\x00\\x00\\x84', b'\\x01\\x00\\x00\\x00\\x81', b'\"\\x00\\x00\\x00A', b'AW1\\xf2L', b'\\xcf\\xeb\\xcf\\x00M', b'l\\xab\\r\\x0eT', b'T_,\\xffU', b'\\x05\\x1c\\x1c\\x1eC', b'\\x01\\x00\\x00\\x00\\x82', b'\\x03\\x00\\x00\\x00\\x84', b'\\x01\\x00\\x00\\x00\\x81', b'B\\x07\\x00\\x00A', b'\\x12l\\xf5\\xffJ', b'\\x00\\x00\\x00\\x00L', b'\\x00\\x00\\x00\\x00M', b'{\\x18\\x00\\x00R', b'\\x00\\x00\\x00\\x00T', b'\\x00\\x00\\x00\\x00U', b'\\x05\\x1e\\x1e\\x1eC', b'\\x01\\x00\\x00\\x00\\x82', b'\\x03\\x00\\x00\\x00\\x84', b'\\x01\\x00\\x00\\x00\\x81', b'\"\\x00\\x00\\x00A', b'X\\x14\\x0e\\x0eL', b'(Y,\\xffM', b'r:\\xce\\rT', b'\\xae\\x1a0\\xffU', b'\\x05\\x1c\\x1c\\x1eC', b'\\x01\\x00\\x00\\x00\\x82', b'\\x03\\x00\\x00\\x00\\x84', b'\\x01\\x00\\x00\\x00\\x81', b'B\\x07\\x00\\x00A', b'{\\x18\\x00\\x00J', b'\\x00\\x00\\x00\\x00L', b'\\x00\\x00\\x00\\x00M', b'\\xed\\x93\\n\\x00R', b'\\x00\\x00\\x00\\x00T', b'\\x00\\x00\\x00\\x00U', b'\\x05\\x1e\\x1e\\x1eC', b'\\x01\\x00\\x00\\x00\\x82', b'\\x03\\x00\\x00\\x00\\x84', b'\\x01\\x00\\x00\\x00\\x81', b'\"\\x00\\x00\\x00A', b'r:\\xce\\rL', b'\\xae\\x1a0\\xffM', b'\\xfc\\xec\\xf1\\xf1T', b'\\xc4\\xa6\\xd3\\x00U', b'\\x05\\x1c\\x1c\\x1eC', b'\\x01\\x00\\x00\\x00\\x82', b'\\x03\\x00\\x00\\x00\\x84', b'\\x01\\x00\\x00\\x00\\x81', b')\\x07\\x00\\x00A', b'=\\x94\\n\\x00J', b'\\x00\\x00\\x00\\x00L', b'\\x00\\x00\\x00\\x00M', b'0\\xe7\\xff\\xffR', b'\\x00\\x00\\x00\\x00T', b'\\x00\\x00\\x00\\x00U', b'\\x05\\x1e\\x1e\\x1eC', b'\\x01\\x00\\x00\\x00\\x82', b'\\x03\\x00\\x00\\x00\\x84', b'\\x01\\x00\\x00\\x00\\x81', b'\"\\x00\\x00\\x00A', b'\\xab\\x82\\xf1\\xf1L', b'\\x05\\xad\\xd3\\x00M', b'r62\\xf2T', b'\\xae\\xde\\xcf\\x00U', b'\\x05\\x1c\\x1c\\x1eC', b'\\x01\\x00\\x00\\x00\\x82', b'\\x03\\x00\\x00\\x00\\x84', b'\\x01\\x00\\x00\\x00\\x81', b')\\x07\\x00\\x00A', b'1\\xe7\\xff\\xffJ', b'\\x00\\x00\\x00\\x00L', b'\\x00\\x00\\x00\\x00M', b'\\xc3k\\xf5\\xffR', b'\\x00\\x00\\x00\\x00T', b'\\x00\\x00\\x00\\x00U', b'\\x05\\x1e\\x1e\\x1eC', b'\\x01\\x00\\x00\\x00\\x82', b'\\x03\\x00\\x00\\x00\\x84', b'\\x01\\x00\\x00\\x00\\x81', b'\"\\x00\\x00\\x00A', b'\\x1e52\\xf2L', b'\\xc2\\xde\\xcf\\x00M', b'U}\\x0e\\x0eT', b'\\xfbR,\\xffU', b'\\x05\\x1c\\x1c\\x1eC', b'\\x01\\x00\\x00\\x00\\x82', b'\\x03\\x00\\x00\\x00\\x84', b'\\x01\\x00\\x00\\x00\\x81', b'\\x10\\x07\\x00\\x00A', b'pk\\xf5\\xffJ', b'\\x00\\x00\\x00\\x00L', b'\\x00\\x00\\x00\\x00M', b\"'\\x19\\x00\\x00R\", b'\\x00\\x00\\x00\\x00T', b'\\x00\\x00\\x00\\x00U', b'\\x05\\x1e\\x1e\\x1eC', b'\\x01\\x00\\x00\\x00\\x82', b'\\x03\\x00\\x00\\x00\\x84', b'\\x01\\x00\\x00\\x00\\x81', b'\"\\x00\\x00\\x00A', b'\\xa2\\xeb\\x0e\\x0eL', b'~L,\\xffM', b'\\xf1U\\xcd\\rT', b'\\x1f(0\\xffU', b'\\x05\\x1c\\x1c\\x1eC', b'\\x01\\x00\\x00\\x00\\x82', b'\\x03\\x00\\x00\\x00\\x84', b'\\x01\\x00\\x00\\x00\\x81', b'\\x10\\x07\\x00\\x00A', b'&\\x19\\x00\\x00J', b'\\x00\\x00\\x00\\x00L', b'\\x00\\x00\\x00\\x00M', b'\\x8f\\x94\\n\\x00R', b'\\x00\\x00\\x00\\x00T', b'\\x00\\x00\\x00\\x00U', b'\\x05\\x1e\\x1e\\x1eC', b'\\x01\\x00\\x00\\x00\\x82', b'\\x03\\x00\\x00\\x00\\x84', b'\\x01\\x00\\x00\\x00\\x81', b'\"\\x00\\x00\\x00A', b'EW\\xcd\\rL', b'\\x0b(0\\xffM', b'\\xb2\\x15\\xf1\\xf1T', b'n\\xb3\\xd3\\x00U', b'\\x05\\x1c\\x1c\\x1eC', b'\\x01\\x00\\x00\\x00\\x82', b'\\x03\\x00\\x00\\x00\\x84', b'\\x01\\x00\\x00\\x00\\x81', b'\\xf7\\x06\\x00\\x00A', b'\\xe5\\x94\\n\\x00J', b'\\x00\\x00\\x00\\x00L', b'\\x00\\x00\\x00\\x00M', b'\\x80\\xe6\\xff\\xffR', b'\\x00\\x00\\x00\\x00T', b'\\x00\\x00\\x00\\x00U', b'\\x05\\x1e\\x1e\\x1eC', b'\\x01\\x00\\x00\\x00\\x82', b'\\x03\\x00\\x00\\x00\\x84', b'\\x01\\x00\\x00\\x00\\x81', b'\"\\x00\\x00\\x00A', b'i\\xa3\\xf0\\xf1L', b\"'\\xba\\xd3\\x00M\", b'T 3\\xf2T', b'\\xec\\xd0\\xcf\\x00U', b'\\x05\\x1c\\x1c\\x1eC', b'\\x01\\x00\\x00\\x00\\x82', b'\\x03\\x00\\x00\\x00\\x84', b'\\x01\\x00\\x00\\x00\\x81', b'\\xf7\\x06\\x00\\x00A', b'\\x80\\xe6\\xff\\xffJ', b'\\x00\\x00\\x00\\x00L', b'\\x00\\x00\\x00\\x00M', b'\\x1ck\\xf5\\xffR', b'\\x00\\x00\\x00\\x00T', b'\\x00\\x00\\x00\\x00U', b'\\x05\\x1e\\x1e\\x1eC', b'\\x01\\x00\\x00\\x00\\x82', b'\\x03\\x00\\x00\\x00\\x84', b'\\x01\\x00\\x00\\x00\\x81', b'\"\\x00\\x00\\x00A', b'T 3\\xf2L', b'\\xec\\xd0\\xcf\\x00M', b'C[\\x0f\\x0eT', b'\\xedE,\\xffU', b'\\x05\\x1c\\x1c\\x1eC', b'\\x01\\x00\\x00\\x00\\x82', b'\\x03\\x00\\x00\\x00\\x84', b'\\x01\\x00\\x00\\x00\\x81', b'\\xde\\x06\\x00\\x00A', b'\\xc5j\\xf5\\xffJ', b'\\x00\\x00\\x00\\x00L', b'\\x00\\x00\\x00\\x00M', b'\\xdd\\x19\\x00\\x00R', b'\\x00\\x00\\x00\\x00T', b'\\x00\\x00\\x00\\x00U', b'\\x05\\x1e\\x1e\\x1eC', b'\\x01\\x00\\x00\\x00\\x82', b'\\x03\\x00\\x00\\x00\\x84', b'\\x01\\x00\\x00\\x00\\x81', b'\"\\x00\\x00\\x00A', b'\\xcf\\xce\\x0f\\x0eL', b'!?,\\xffM', b'\\x17d\\xcc\\rT', b'Y60\\xffU', b'\\x05\\x1c\\x1c\\x1eC', b'\\x01\\x00\\x00\\x00\\x82', b'\\x03\\x00\\x00\\x00\\x84', b'\\x01\\x00\\x00\\x00\\x81', b'\\xde\\x06\\x00\\x00A', b'\\xdc\\x19\\x00\\x00J', b'\\x00\\x00\\x00\\x00L', b'\\x00\\x00\\x00\\x00M', b':\\x95\\n\\x00R', b'\\x00\\x00\\x00\\x00T', b'\\x00\\x00\\x00\\x00U', b'\\x05\\x1e\\x1e\\x1eC', b'\\x01\\x00\\x00\\x00\\x82', b'\\x03\\x00\\x00\\x00\\x84', b'\\x01\\x00\\x00\\x00\\x81', b'\"\\x00\\x00\\x00A', b'ke\\xcc\\rL', b'E60\\xffM', b'\\x852\\xf0\\xf1T', b'\\xcb\\xc0\\xd3\\x00U', b'\\x05\\x1c\\x1c\\x1eC', b'\\x01\\x00\\x00\\x00\\x82', b'\\x03\\x00\\x00\\x00\\x84', b'\\x01\\x00\\x00\\x00\\x81', b'\\xc5\\x06\\x00\\x00A', b'\\x94\\x95\\n\\x00J', b'\\x00\\x00\\x00\\x00L', b'\\x00\\x00\\x00\\x00M', b'\\xc4\\xe5\\xff\\xffR', b'\\x00\\x00\\x00\\x00T', b'\\x00\\x00\\x00\\x00U', b'\\x05\\x1e\\x1e\\x1eC', b'\\x01\\x00\\x00\\x00\\x82', b'\\x03\\x00\\x00\\x00\\x84', b'\\x01\\x00\\x00\\x00\\x81', b'\"\\x00\\x00\\x00A', b'\\xec\\xba\\xef\\xf1L', b'\\xd4\\xc7\\xd3\\x00M', b'&\\x1a4\\xf2T', b':\\xc2\\xcf\\x00U', b'\\x05\\x1c\\x1c\\x1eC', b'\\x01\\x00\\x00\\x00\\x82', b'\\x03\\x00\\x00\\x00\\x84', b'\\x01\\x00\\x00\\x00\\x81', b'\\xc5\\x06\\x00\\x00A', b'\\xc5\\xe5\\xff\\xffJ', b'\\x00\\x00\\x00\\x00L', b'\\x00\\x00\\x00\\x00M', b'mj\\xf5\\xffR', b'\\x00\\x00\\x00\\x00T', b'\\x00\\x00\\x00\\x00U', b'\\x05\\x1e\\x1e\\x1eC', b'\\x01\\x00\\x00\\x00\\x82', b'\\x03\\x00\\x00\\x00\\x84', b'\\x01\\x00\\x00\\x00\\x81', b'\"\\x00\\x00\\x00A', b'\\xd2\\x184\\xf2L', b'N\\xc2\\xcf\\x00M', b'\\xc0C\\x10\\x0eT', b'@8,\\xffU', b'\\x05\\x1c\\x1c\\x1eC', b'\\x01\\x00\\x00\\x00\\x82', b'\\x03\\x00\\x00\\x00\\x84', b'\\x01\\x00\\x00\\x00\\x81', b'\\xac\\x06\\x00\\x00A', b'\\x11j\\xf5\\xffJ', b'\\x00\\x00\\x00\\x00L', b'\\x00\\x00\\x00\\x00M', b'\\x9d\\x1a\\x00\\x00R', b'\\x00\\x00\\x00\\x00T', b'\\x00\\x00\\x00\\x00U', b'\\x05\\x1e\\x1e\\x1eC', b'\\x01\\x00\\x00\\x00\\x82', b'\\x03\\x00\\x00\\x00\\x84', b'\\x01\\x00\\x00\\x00\\x81', b'\"\\x00\\x00\\x00A', b'\\x01\\xbe\\x10\\x0eL', b'\\x0f1,\\xffM', b'\\xf5d\\xcb\\rT', b'[E0\\xffU', b'\\x05\\x1c\\x1c\\x1eC', b'\\x01\\x00\\x00\\x00\\x82', b'\\x03\\x00\\x00\\x00\\x84', b'\\x01\\x00\\x00\\x00\\x81', b'\\xac\\x06\\x00\\x00A', b'\\x9c\\x1a\\x00\\x00J', b'\\x00\\x00\\x00\\x00L', b'\\x00\\x00\\x00\\x00M', b'\\xef\\x95\\n\\x00R', b'\\x00\\x00\\x00\\x00T', b'\\x00\\x00\\x00\\x00U', b'\\x05\\x1e\\x1e\\x1eC', b'\\x01\\x00\\x00\\x00\\x82', b'\\x03\\x00\\x00\\x00\\x84', b'\\x01\\x00\\x00\\x00\\x81', b'\"\\x00\\x00\\x00A', b'If\\xcb\\rL', b'GE0\\xffM', b'\\xffA\\xef\\xf1T', b'\\xf1\\xce\\xd3\\x00U', b'\\x05\\x1c\\x1c\\x1eC', b'\\x01\\x00\\x00\\x00\\x82', b'\\x03\\x00\\x00\\x00\\x84', b'\\x01\\x00\\x00\\x00\\x81', b'\\x93\\x06\\x00\\x00A', b'N\\x96\\n\\x00J', b'\\x00\\x00\\x00\\x00L', b'\\x00\\x00\\x00\\x00M', b'\\xff\\xe4\\xff\\xffR', b'\\x00\\x00\\x00\\x00T', b'\\x00\\x00\\x00\\x00U', b'\\x05\\x1e\\x1e\\x1eC', b'\\x01\\x00\\x00\\x00\\x82', b'\\x03\\x00\\x00\\x00\\x84', b'\\x01\\x00\\x00\\x00\\x81', b'\"\\x00\\x00\\x00A', b'\\xc2\\xc3\\xee\\xf1L', b'^\\xd6\\xd3\\x00M', b'\\xec\\x1f5\\xf2T', b'\\xd4\\xb2\\xcf\\x00U', b'\\x05\\x1c\\x1c\\x1eC', b'\\x01\\x00\\x00\\x00\\x82', b'\\x03\\x00\\x00\\x00\\x84', b'\\x01\\x00\\x00\\x00\\x81', b'\\x93\\x06\\x00\\x00A', b'\\xff\\xe4\\xff\\xffJ', b'\\x00\\x00\\x00\\x00L', b'\\x00\\x00\\x00\\x00M', b'\\xb3i\\xf5\\xffR', b'\\x00\\x00\\x00\\x00T', b'\\x00\\x00\\x00\\x00U', b'\\x05\\x1e\\x1e\\x1eC', b'\\x01\\x00\\x00\\x00\\x82', b'\\x03\\x00\\x00\\x00\\x84', b'\\x01\\x00\\x00\\x00\\x81', b'\"\\x00\\x00\\x00A', b'\\xec\\x1f5\\xf2L', b'\\xd4\\xb2\\xcf\\x00M', b'\\xea:\\x11\\x0eT', b'\\xb6),\\xffU', b'\\x05\\x1c\\x1c\\x1eC', b'\\x01\\x00\\x00\\x00\\x82', b'\\x03\\x00\\x00\\x00\\x84', b'\\x01\\x00\\x00\\x00\\x81', b'z\\x06\\x00\\x00A', b'Qi\\xf5\\xffJ', b'\\x00\\x00\\x00\\x00L', b'\\x00\\x00\\x00\\x00M', b'h\\x1b\\x00\\x00R', b'\\x00\\x00\\x00\\x00T', b'\\x00\\x00\\x00\\x00U', b'\\x05\\x1e\\x1e\\x1eC', b'\\x01\\x00\\x00\\x00\\x82', b'\\x03\\x00\\x00\\x00\\x84', b'\\x01\\x00\\x00\\x00\\x81', b'\"\\x00\\x00\\x00A', b'#\\xbd\\x11\\x0eL', b'\\r\",\\xffM', b'HW\\xca\\rT', b'8U0\\xffU', b'\\x05\\x1c\\x1c\\x1eC', b'\\x01\\x00\\x00\\x00\\x82', b'\\x03\\x00\\x00\\x00\\x84', b'\\x01\\x00\\x00\\x00\\x81', b'z\\x06\\x00\\x00A', b'h\\x1b\\x00\\x00J', b'\\x00\\x00\\x00\\x00L', b'\\x00\\x00\\x00\\x00M', b'\\xae\\x96\\n\\x00R', b'\\x00\\x00\\x00\\x00T', b'\\x00\\x00\\x00\\x00U', b'\\x05\\x1e\\x1e\\x1eC', b'\\x01\\x00\\x00\\x00\\x82', b'\\x03\\x00\\x00\\x00\\x84', b'\\x01\\x00\\x00\\x00\\x81', b'\"\\x00\\x00\\x00A', b'HW\\xca\\rL', b'8U0\\xffM', b'1D\\xee\\xf1T', b'\\xdf\\xdd\\xd3\\x00U', b'\\x05\\x1c\\x1c\\x1eC', b'\\x01\\x00\\x00\\x00\\x82', b'\\x03\\x00\\x00\\x00\\x84', b'\\x01\\x00\\x00\\x00\\x81', b'a\\x06\\x00\\x00A', b'\\x13\\x97\\n\\x00J', b'\\x00\\x00\\x00\\x00L', b'\\x00\\x00\\x00\\x00M', b'.\\xe4\\xff\\xffR', b'\\x00\\x00\\x00\\x00T', b'\\x00\\x00\\x00\\x00U', b'\\x05\\x1e\\x1e\\x1eC', b'\\x01\\x00\\x00\\x00\\x82', b'\\x03\\x00\\x00\\x00\\x84', b'\\x01\\x00\\x00\\x00\\x81', b'\"\\x00\\x00\\x00A', b'\\xfc\\xbd\\xed\\xf1L', b'\\xc4\\xe5\\xd3\\x00M', b'\\x9156\\xf2T', b'\\x7f\\xa2\\xcf\\x00U', b'\\x05\\x1c\\x1c\\x1eC', b'\\x01\\x00\\x00\\x00\\x82', b'\\x03\\x00\\x00\\x00\\x84', b'\\x01\\x00\\x00\\x00\\x81', b'a\\x06\\x00\\x00A', b'.\\xe4\\xff\\xffJ', b'\\x00\\x00\\x00\\x00L', b'\\x00\\x00\\x00\\x00M', b'\\xeeh\\xf5\\xffR', b'\\x00\\x00\\x00\\x00T', b'\\x00\\x00\\x00\\x00U', b'\\x05\\x1e\\x1e\\x1eC', b'\\x01\\x00\\x00\\x00\\x82', b'\\x03\\x00\\x00\\x00\\x84', b'\\x01\\x00\\x00\\x00\\x81', b'\"\\x00\\x00\\x00A', b'\\x9156\\xf2L', b'\\x7f\\xa2\\xcf\\x00M', b'\\xb0@\\x12\\x0eT', b'P\\x1a,\\xffU', b'\\x05\\x1c\\x1c\\x1eC', b'\\x01\\x00\\x00\\x00\\x82', b'\\x03\\x00\\x00\\x00\\x84', b'\\x01\\x00\\x00\\x00\\x81', b'H\\x06\\x00\\x00A', b'\\x86h\\xf5\\xffJ', b'\\x00\\x00\\x00\\x00L', b'\\x00\\x00\\x00\\x00M', b'@\\x1c\\x00\\x00R', b'\\x00\\x00\\x00\\x00T', b'\\x00\\x00\\x00\\x00U', b'\\x05\\x1e\\x1e\\x1eC', b'\\x01\\x00\\x00\\x00\\x82', b'\\x03\\x00\\x00\\x00\\x84', b'\\x01\\x00\\x00\\x00\\x81', b'\"\\x00\\x00\\x00A', b'\\xe1\\xca\\x12\\x0eL', b'/\\x12,\\xffM', b'F8\\xc9\\rT', b'\\x1af0\\xffU', b'\\x05\\x1c\\x1c\\x1eC', b'\\x01\\x00\\x00\\x00\\x82', b'\\x03\\x00\\x00\\x00\\x84', b'\\x01\\x00\\x00\\x00\\x81', b'H\\x06\\x00\\x00A', b'?\\x1c\\x00\\x00J', b'\\x00\\x00\\x00\\x00L', b'\\x00\\x00\\x00\\x00M', b'y\\x97\\n\\x00R', b'\\x00\\x00\\x00\\x00T', b'\\x00\\x00\\x00\\x00U', b'\\x05\\x1e\\x1e\\x1eC', b'\\x01\\x00\\x00\\x00\\x82', b'\\x03\\x00\\x00\\x00\\x84', b'\\x01\\x00\\x00\\x00\\x81', b'\"\\x00\\x00\\x00A', b'\\x9a9\\xc9\\rL', b'\\x06f0\\xffM', b's6\\xed\\xf1T', b'\\xbd\\xed\\xd3\\x00U', b'\\x05\\x1c\\x1c\\x1eC', b'\\x01\\x00\\x00\\x00\\x82', b'\\x03\\x00\\x00\\x00\\x84', b'\\x01\\x00\\x00\\x00\\x81', b'/\\x06\\x00\\x00A', b'\\xe4\\x97\\n\\x00J', b'\\x00\\x00\\x00\\x00L', b'\\x00\\x00\\x00\\x00M', b'O\\xe3\\xff\\xffR', b'\\x00\\x00\\x00\\x00T', b'\\x00\\x00\\x00\\x00U', b'\\x05\\x1e\\x1e\\x1eC', b'\\x01\\x00\\x00\\x00\\x82', b'\\x03\\x00\\x00\\x00\\x84', b'\\x01\\x00\\x00\\x00\\x81', b'\"\\x00\\x00\\x00A', b'F\\xa8\\xec\\xf1L', b'\\x1a\\xf6\\xd3\\x00M', b'\\xdf]7\\xf2T', b'\\x11\\x91\\xcf\\x00U', b'\\x05\\x1c\\x1c\\x1eC', b'\\x01\\x00\\x00\\x00\\x82', b'\\x03\\x00\\x00\\x00\\x84', b'\\x01\\x00\\x00\\x00\\x81', b'/\\x06\\x00\\x00A', b'P\\xe3\\xff\\xffJ', b'\\x00\\x00\\x00\\x00L', b'\\x00\\x00\\x00\\x00M', b'\\x1dh\\xf5\\xffR', b'\\x00\\x00\\x00\\x00T', b'\\x00\\x00\\x00\\x00U', b'\\x05\\x1e\\x1e\\x1eC', b'\\x01\\x00\\x00\\x00\\x82', b'\\x03\\x00\\x00\\x00\\x84', b'\\x01\\x00\\x00\\x00\\x81', b'\"\\x00\\x00\\x00A', b'\\x8b\\\\7\\xf2L', b'%\\x91\\xcf\\x00M', b'fV\\x13\\x0eT', b'\\xfa\\t,\\xffU', b'\\x05\\x1c\\x1c\\x1eC', b'\\x01\\x00\\x00\\x00\\x82', b'\\x03\\x00\\x00\\x00\\x84', b'\\x01\\x00\\x00\\x00\\x81', b'\\x16\\x06\\x00\\x00A', b'\\xafg\\xf5\\xffJ', b'\\x00\\x00\\x00\\x00L', b'\\x00\\x00\\x00\\x00M', b'%\\x1d\\x00\\x00R', b'\\x00\\x00\\x00\\x00T', b'\\x00\\x00\\x00\\x00U', b'\\x05\\x1e\\x1e\\x1eC', b'\\x01\\x00\\x00\\x00\\x82', b'\\x03\\x00\\x00\\x00\\x84', b'\\x01\\x00\\x00\\x00\\x81', b'\"\\x00\\x00\\x00A', b'\\x8f\\xe8\\x13\\x0eL', b'a\\x01,\\xffM', b'\\x00\\x08\\xc8\\rT', b'\\x00x0\\xffU', b'\\x05\\x1c\\x1c\\x1eC', b'\\x01\\x00\\x00\\x00\\x82', b'\\x03\\x00\\x00\\x00\\x84', b'\\x01\\x00\\x00\\x00\\x81', b'\\x16\\x06\\x00\\x00A', b'$\\x1d\\x00\\x00J', b'\\x00\\x00\\x00\\x00L', b'\\x00\\x00\\x00\\x00M', b'Q\\x98\\n\\x00R', b'\\x00\\x00\\x00\\x00T', b'\\x00\\x00\\x00\\x00U', b'\\x05\\x1e\\x1e\\x1eC', b'\\x01\\x00\\x00\\x00\\x82', b'\\x03\\x00\\x00\\x00\\x84', b'\\x01\\x00\\x00\\x00\\x81', b'\"\\x00\\x00\\x00A', b'T\\t\\xc8\\rL', b'\\xecw0\\xffM', b'q\\x17\\xec\\xf1T', b'\\x9f\\xfe\\xd3\\x00U', b'\\x05\\x1c\\x1c\\x1eC', b'\\x01\\x00\\x00\\x00\\x82', b'\\x03\\x00\\x00\\x00\\x84', b'\\x01\\x00\\x00\\x00\\x81', b'\\xfd\\x05\\x00\\x00A', b'\\xc3\\x98\\n\\x00J', b'\\x00\\x00\\x00\\x00L', b'\\x00\\x00\\x00\\x00M', b'b\\xe2\\xff\\xffR', b'\\x00\\x00\\x00\\x00T', b'\\x00\\x00\\x00\\x00U', b'\\x05\\x1e\\x1e\\x1eC', b'\\x01\\x00\\x00\\x00\\x82', b'\\x03\\x00\\x00\\x00\\x84', b'\\x01\\x00\\x00\\x00\\x81', b'\"\\x00\\x00\\x00A', b'\\xf8\\x7f\\xeb\\xf1L', b'\\x88\\x07\\xd4\\x00M', b'\\xd6\\x988\\xf2T', b'\\x8a~\\xcf\\x00U', b'\\x05\\x1c\\x1c\\x1eC', b'\\x01\\x00\\x00\\x00\\x82', b'\\x03\\x00\\x00\\x00\\x84', b'\\x01\\x00\\x00\\x00\\x81', b'\\xfd\\x05\\x00\\x00A', b'c\\xe2\\xff\\xffJ', b'\\x00\\x00\\x00\\x00L', b'\\x00\\x00\\x00\\x00M', b'>g\\xf5\\xffR', b'\\x00\\x00\\x00\\x00T', b'\\x00\\x00\\x00\\x00U', b'\\x05\\x1e\\x1e\\x1eC', b'\\x01\\x00\\x00\\x00\\x82', b'\\x03\\x00\\x00\\x00\\x84', b'\\x01\\x00\\x00\\x00\\x81', b'\"\\x00\\x00\\x00A', b'q\\x978\\xf2L', b'\\x9f~\\xcf\\x00M', b'\\xb4~\\x14\\x0eT', b'\\x8c\\xf8+\\xffU', b'\\x05\\x1c\\x1c\\x1eC', b'\\x01\\x00\\x00\\x00\\x82', b'\\x03\\x00\\x00\\x00\\x84', b'\\x01\\x00\\x00\\x00\\x81', b'\\xe4\\x05\\x00\\x00A', b'\\xc9f\\xf5\\xffJ', b'\\x00\\x00\\x00\\x00L', b'\\x00\\x00\\x00\\x00M', b'\\x1b\\x1e\\x00\\x00R', b'\\x00\\x00\\x00\\x00T', b'\\x00\\x00\\x00\\x00U', b'\\x05\\x1e\\x1e\\x1eC', b'\\x01\\x00\\x00\\x00\\x82', b'\\x03\\x00\\x00\\x00\\x84', b'\\x01\\x00\\x00\\x00\\x81', b'\"\\x00\\x00\\x00A', b')\\x1a\\x15\\x0eL', b'g\\xef+\\xffM', b'\\x15\\xc1\\xc6\\rT', b';\\x8b0\\xffU', b'\\x05\\x1c\\x1c\\x1eC', b'\\x01\\x00\\x00\\x00\\x82', b'\\x03\\x00\\x00\\x00\\x84', b'\\x01\\x00\\x00\\x00\\x81', b'\\xe4\\x05\\x00\\x00A', b'\\x19\\x1e\\x00\\x00J', b'\\x00\\x00\\x00\\x00L', b'\\x00\\x00\\x00\\x00M', b'5\\x99\\n\\x00R', b'\\x00\\x00\\x00\\x00T', b'\\x00\\x00\\x00\\x00U', b'\\x05\\x1e\\x1e\\x1eC', b'\\x01\\x00\\x00\\x00\\x82', b'\\x03\\x00\\x00\\x00\\x84', b'\\x01\\x00\\x00\\x00\\x81', b'\"\\x00\\x00\\x00A', b'\\xbd\\xc3\\xc6\\rL', b'\\x13\\x8b0\\xffM', b'\\x7f\\xe8\\xea\\xf1T', b'q\\x10\\xd4\\x00U', b'\\x05\\x1c\\x1c\\x1eC', b'\\x01\\x00\\x00\\x00\\x82', b'\\x03\\x00\\x00\\x00\\x84', b'\\x01\\x00\\x00\\x00\\x81', b'\\xcb\\x05\\x00\\x00A', b'\\xaf\\x99\\n\\x00J', b'\\x00\\x00\\x00\\x00L', b'\\x00\\x00\\x00\\x00M', b'f\\xe1\\xff\\xffR', b'\\x00\\x00\\x00\\x00T', b'\\x00\\x00\\x00\\x00U', b'\\x05\\x1e\\x1e\\x1eC', b'\\x01\\x00\\x00\\x00\\x82', b'\\x03\\x00\\x00\\x00\\x84', b'\\x01\\x00\\x00\\x00\\x81', b'\"\\x00\\x00\\x00A', b'fF\\xea\\xf1L', b'\\xfa\\x19\\xd4\\x00M', b'\\xa8\\xe79\\xf2T', b'\\xd8j\\xcf\\x00U', b'\\x05\\x1c\\x1c\\x1eC', b'\\x01\\x00\\x00\\x00\\x82', b'\\x03\\x00\\x00\\x00\\x84', b'\\x01\\x00\\x00\\x00\\x81', b'\\xcb\\x05\\x00\\x00A', b'g\\xe1\\xff\\xffJ', b'\\x00\\x00\\x00\\x00L', b'\\x00\\x00\\x00\\x00M', b'Rf\\xf5\\xffR', b'\\x00\\x00\\x00\\x00T', b'\\x00\\x00\\x00\\x00U', b'\\x05\\x1e\\x1e\\x1eC', b'\\x01\\x00\\x00\\x00\\x82', b'\\x03\\x00\\x00\\x00\\x84', b'\\x01\\x00\\x00\\x00\\x81', b'\"\\x00\\x00\\x00A', b'T\\xe69\\xf2L', b'\\xecj\\xcf\\x00M', b'F\\xb8\\x15\\x0eT', b'\\x1a\\xe6+\\xffU', b'\\x05\\x1c\\x1c\\x1eC', b'\\x01\\x00\\x00\\x00\\x82', b'\\x03\\x00\\x00\\x00\\x84', b'\\x01\\x00\\x00\\x00\\x81', b'\\xb2\\x05\\x00\\x00A', b'\\xd4e\\xf5\\xffJ', b'\\x00\\x00\\x00\\x00L', b'\\x00\\x00\\x00\\x00M', b'\\x1f\\x1f\\x00\\x00R', b'\\x00\\x00\\x00\\x00T', b'\\x00\\x00\\x00\\x00U', b'\\x05\\x1e\\x1e\\x1eC', b'\\x01\\x00\\x00\\x00\\x82', b'\\x03\\x00\\x00\\x00\\x84', b'\\x01\\x00\\x00\\x00\\x81', b'\"\\x00\\x00\\x00A', b'\\xaf_\\x16\\x0eL', b'A\\xdc+\\xffM', b'\\xa3g\\xc5\\rT', b'\\x8d\\x9f0\\xffU', b'\\x05\\x1c\\x1c\\x1eC', b'\\x01\\x00\\x00\\x00\\x82', b'\\x03\\x00\\x00\\x00\\x84', b'\\x01\\x00\\x00\\x00\\x81', b'\\xb2\\x05\\x00\\x00A', b'\\x88\\x00\\x00\\x00J', b'\\x00\\x00\\x00\\x00L', b'\\x00\\x00\\x00\\x00M', b'\\r\\x9b\\n\\x00R', b'\\x00\\x00\\x00\\x00T', b'\\x00\\x00\\x00\\x00U', b'\\x05\\x1e\\x1e\\x1eC', b'\\x01\\x00\\x00\\x00\\x82', b'\\x03\\x00\\x00\\x00\\x84', b'\\x01\\x00\\x00\\x00\\x81', b'!\\x00\\x00\\x00A', b'8\\xcd5\\xf1T', b'qw\\xe5\\x00U', b'\\x05\\x1c\\x1c\\x1eC', b'\\x01\\x00\\x00\\x00\\x82', b'\\x03\\x00\\x00\\x00\\x84', b'\\x01\\x00\\x00\\x00\\x81', b'\\x05\\x00\\x00\\x00A', b'\\x00\\x00\\x00\\x00J', b'\\x00\\x00\\x00\\x00R', b'\\x00\\x00\\x00\\x00T', b'\\x00\\x00\\x00\\x00U', b'\\x00\\x00\\x00\\x00Z', b'\\x05\\x1e\\x1e\\x1eC', b'\\x01\\x00\\x00\\x00\\x82', b'\\x03\\x00\\x00\\x00\\x84', b'\\x01\\x00\\x00\\x00\\x81', b'\\x02\\x00\\x00\\x00C', b'\\x00\\x00\\x00\\x00B', b'\\x03\\x00\\x00\\x00\\x82', b'\\x01\\x00\\x00\\x00\\x84', b'\\x01\\x00\\x00\\x00\\x81', b'\\x03\\x00\\x00\\x00@', b'\\x00\\x00\\x00\\x00\\xbf']\n",
    "\n",
    "for axe in p.axes.values():\n",
    "    axe.apg = None\n",
    "    \n",
    "p.axe_x1.apg = p.apg_x\n",
    "p.axe_y.apg = p.apg_y\n",
    "p.axe_e1.apg = p.apg_z\n",
    "p.axe_e1.enabled = True\n",
    "p.update_axes_config()\n",
    "\n",
    "p.exec_code(c)"
   ]
  },
  {
   "cell_type": "code",
   "execution_count": 86,
   "metadata": {},
   "outputs": [
    {
     "name": "stdout",
     "output_type": "stream",
     "text": [
      "Move: {'E2': -150000}\n",
      "SetPositions: {'E2': 0}\n"
     ]
    }
   ],
   "source": [
    "p.axe_e2.max_v=50000\n",
    "p.move(E2=-\n",
    "       150000)"
   ]
  },
  {
   "cell_type": "code",
   "execution_count": 85,
   "metadata": {},
   "outputs": [],
   "source": [
    "p.axe_e2.enabled=True\n",
    "p.update_axes_config()\n",
    "p.axe_e2.max_v=50000\n",
    "\n"
   ]
  },
  {
   "cell_type": "code",
   "execution_count": 22,
   "metadata": {},
   "outputs": [
    {
     "name": "stdout",
     "output_type": "stream",
     "text": [
      "Move: {'X2': 1000}\n",
      "Save position: X2 -10001.2265625\n"
     ]
    }
   ],
   "source": [
    "p.move(X2=1000)"
   ]
  },
  {
   "cell_type": "code",
   "execution_count": 34,
   "metadata": {},
   "outputs": [
    {
     "name": "stdout",
     "output_type": "stream",
     "text": [
      "accel_t: 33\n",
      "plato_t: 967\n",
      "accel_a: 2047090739.713862\n",
      "accel_j: 248132210.8744075\n",
      "accel_jj: -15038315.81057015\n",
      "int_accel_j: 248132214\n",
      "int_accel_jj: -15038316\n",
      "      fun: 483.010037614654\n",
      " hess_inv: array([[ 2.52855160e-11, -2.80950840e-11],\n",
      "       [-2.80950840e-11,  6.58756135e-11]])\n",
      "      jac: array([86.34985352, 79.35758209])\n",
      "  message: 'Desired error not necessarily achieved due to precision loss.'\n",
      "     nfev: 480\n",
      "      nit: 19\n",
      "     njev: 117\n",
      "   status: 2\n",
      "  success: False\n",
      "        x: array([-0.27073137,  0.04110494])\n",
      "old 248132214 -15038316\n",
      "new 241414497 -15100131\n",
      "int_accel_v: 45080539680 8007.912498442238\n",
      "int_accel_x: 699260135112 124.21355235261443\n",
      "int_plato_v: 45073563806 8006.673334293168\n",
      "e_target: 5.255878932075575e-08\n",
      "e_delta_v: 573.2350508886157\n",
      "e_jerk: -106.44338989257812\n",
      "accel_t: 33\n",
      "plato_t: 967\n",
      "accel_t: 33\n",
      "plato_t: 5\n",
      "accel_a: -2048798354.8181815\n",
      "accel_j: -248339194.52341595\n",
      "accel_jj: 15050860.27414642\n",
      "int_accel_j: -248339190\n",
      "int_accel_jj: 15050860\n",
      "      fun: 0.5851288338911296\n",
      " hess_inv: array([[1.29755260e-06, 1.34443960e-06],\n",
      "       [1.34443960e-06, 1.40048869e-06]])\n",
      "      jac: array([-12.37313535,  12.78917687])\n",
      "  message: 'Desired error not necessarily achieved due to precision loss.'\n",
      "     nfev: 400\n",
      "      nit: 19\n",
      "     njev: 97\n",
      "   status: 2\n",
      "  success: False\n",
      "        x: array([-0.29411727,  0.00919166])\n",
      "old -248339190 15050860\n",
      "new -241035105 15064694\n",
      "int_accel_v: -1170 -0.00020783375020982928\n",
      "int_accel_x: 788787351198 140.11678061329746\n",
      "int_plato_v: 0 0.0\n",
      "e_target: -6.7834472274051905\n",
      "e_delta_v: 0.0\n",
      "e_jerk: 0.017852783203125\n",
      "accel_t: 33\n",
      "plato_t: 5\n",
      "[[33, [<ProfileSegment apg=X a=0 j=241414497 jj=-15100131>, <ProfileSegment apg=Y a=0 j=0 jj=0>]], [967, [<ProfileSegment apg=X v=687768 a=0 j=0 jj=0>, <ProfileSegment apg=Y v=0 a=0 j=0 jj=0>]], [33, [<ProfileSegment apg=X a=0 j=-241035105 jj=15064694>, <ProfileSegment apg=Y a=0 j=0 jj=0>]], [5, [<ProfileSegment apg=X v=0 a=0 j=0 jj=0>, <ProfileSegment apg=Y v=0 a=0 j=0 jj=0>]], [5, [<ProfileSegment apg=X v=0 a=0 j=0 jj=0>, <ProfileSegment apg=Y v=0 a=0 j=0 jj=0>, <ProfileSegment apg=Z v=0 a=0 j=0 jj=0>]]]\n"
     ]
    }
   ],
   "source": [
    "from valurap.path_planning import PathPlanner, PathLimits, solve_model_simple, ir, xtov_k\n",
    "DEFAULT_LIMITS = PathLimits(None, None, 3000, 3000, None, None, 0.1)\n",
    "\n",
    "pp = PathPlanner([[0, 0, 0], [100, 0, 100], [100, 0, 0]], DEFAULT_LIMITS)\n",
    "plan, slowdowns, notes = pp.plan_with_slow_down()\n",
    "speedup_slowdowns = pp.plan_speedup(slowdowns, notes)\n",
    "plan, errors, notes, extras_plan = pp.plan_path_in_floats(speedup_slowdowns)\n",
    "int_plan = pp.plan_to_int(plan)\n",
    "segs = pp.format(int_plan, apgs= {\"X\": p.apg_x, \"Y\":p.apg_y, \"Z\":p.apg_z})\n",
    "print(segs)\n",
    "\n"
   ]
  }
 ],
 "metadata": {
  "kernelspec": {
   "display_name": "Python 3",
   "language": "python",
   "name": "python3"
  },
  "language_info": {
   "codemirror_mode": {
    "name": "ipython",
    "version": 3
   },
   "file_extension": ".py",
   "mimetype": "text/x-python",
   "name": "python",
   "nbconvert_exporter": "python",
   "pygments_lexer": "ipython3",
   "version": "3.7.2"
  }
 },
 "nbformat": 4,
 "nbformat_minor": 2
}
