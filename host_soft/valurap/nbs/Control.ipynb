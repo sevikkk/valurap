{
 "cells": [
  {
   "cell_type": "code",
   "execution_count": 247,
   "metadata": {},
   "outputs": [
    {
     "name": "stdout",
     "output_type": "stream",
     "text": [
      "Executing reset code\n"
     ]
    }
   ],
   "source": [
    "import valurap.printer as vp\n",
    "import valurap.axes as vax\n",
    "import valurap.apgs as vap\n",
    "\n",
    "from importlib import reload\n",
    "reload(vax)\n",
    "reload(vap)\n",
    "reload(vp)\n",
    "\n",
    "p = vp.Valurap()\n",
    "p.setup()"
   ]
  },
  {
   "cell_type": "code",
   "execution_count": 248,
   "metadata": {
    "scrolled": false
   },
   "outputs": [
    {
     "name": "stdout",
     "output_type": "stream",
     "text": [
      "SetPositions: {'Z': 0}\n",
      "Move: {'Z': 30000}\n",
      "homing: [<valurap.axes.AxeX1 object at 0xae18f5f0>, <valurap.axes.AxeX2 object at 0xae18fcf0>, <valurap.axes.AxeY object at 0xae18f3f0>]\n",
      "SetPositions: {'X1': 0, 'X2': 0, 'Y': 0}\n",
      "homing: [<valurap.axes.AxeX1 object at 0xae18f5f0>, <valurap.axes.AxeX2 object at 0xae18fcf0>, <valurap.axes.AxeY object at 0xae18f3f0>]\n",
      "X2 already on endstop\n",
      "SetPositions: {'X1': 0, 'Y': 0}\n",
      "homing: [<valurap.axes.AxeX1 object at 0xae18f5f0>, <valurap.axes.AxeX2 object at 0xae18fcf0>, <valurap.axes.AxeY object at 0xae18f3f0>]\n",
      "X1 already on endstop\n",
      "X2 already on endstop\n",
      "SetPositions: {'Y': 0}\n",
      "homing: [<valurap.axes.AxeX1 object at 0xae18f5f0>, <valurap.axes.AxeX2 object at 0xae18fcf0>, <valurap.axes.AxeY object at 0xae18f3f0>]\n",
      "X1 already on endstop\n",
      "X2 already on endstop\n",
      "Y already on endstop\n",
      "All axes on endstops, skipping\n",
      "SetPositions: {'X1': 0}\n",
      "Move: {'X1': -3000}\n",
      "homing: [<valurap.axes.AxeX1 object at 0xae18f5f0>]\n",
      "SetPositions: {'X1': 0}\n",
      "homing: [<valurap.axes.AxeX1 object at 0xae18f5f0>]\n",
      "X1 already on endstop\n",
      "All axes on endstops, skipping\n",
      "SetPositions: {'X2': 0}\n",
      "Move: {'X2': 3000}\n",
      "homing: [<valurap.axes.AxeX2 object at 0xae18fcf0>]\n",
      "SetPositions: {'X2': 0}\n",
      "homing: [<valurap.axes.AxeX2 object at 0xae18fcf0>]\n",
      "X2 already on endstop\n",
      "All axes on endstops, skipping\n",
      "SetPositions: {'Y': 0}\n",
      "Move: {'Y': 3000}\n",
      "homing: [<valurap.axes.AxeY1 object at 0xae18f730>, <valurap.axes.AxeY2 object at 0xae18fbf0>]\n",
      "SetPositions: {'Y1': 0, 'Y2': 0}\n",
      "homing: [<valurap.axes.AxeY1 object at 0xae18f730>, <valurap.axes.AxeY2 object at 0xae18fbf0>]\n",
      "Y1 already on endstop\n",
      "Y2 already on endstop\n",
      "All axes on endstops, skipping\n",
      "homing: [<valurap.axes.AxeZ object at 0xae18f8d0>]\n",
      "SetPositions: {'Z': 0}\n",
      "homing: [<valurap.axes.AxeZ object at 0xae18f8d0>]\n",
      "Z already on endstop\n",
      "All axes on endstops, skipping\n",
      "SetPositions: {'Z': 0}\n",
      "Move: {'Z': 2000}\n",
      "homing: [<valurap.axes.AxeBLZ object at 0xae18f830>]\n",
      "SetPositions: {'BLZ': 0}\n",
      "homing: [<valurap.axes.AxeBLZ object at 0xae18f830>]\n",
      "BLZ already on endstop\n",
      "All axes on endstops, skipping\n",
      "homing: [<valurap.axes.AxeBRZ object at 0xae18f670>]\n",
      "SetPositions: {'BRZ': 0}\n",
      "homing: [<valurap.axes.AxeBRZ object at 0xae18f670>]\n",
      "BRZ already on endstop\n",
      "All axes on endstops, skipping\n",
      "homing: [<valurap.axes.AxeFLZ object at 0xae18fa30>]\n",
      "SetPositions: {'FLZ': 0}\n",
      "homing: [<valurap.axes.AxeFLZ object at 0xae18fa30>]\n",
      "SetPositions: {'FLZ': 0}\n",
      "homing: [<valurap.axes.AxeFLZ object at 0xae18fa30>]\n",
      "SetPositions: {'FLZ': 0}\n",
      "homing: [<valurap.axes.AxeFLZ object at 0xae18fa30>]\n",
      "FLZ already on endstop\n",
      "All axes on endstops, skipping\n",
      "homing: [<valurap.axes.AxeFRZ object at 0xae18f6d0>]\n",
      "SetPositions: {'FRZ': 0}\n",
      "homing: [<valurap.axes.AxeFRZ object at 0xae18f6d0>]\n",
      "SetPositions: {'FRZ': 0}\n",
      "homing: [<valurap.axes.AxeFRZ object at 0xae18f6d0>]\n",
      "FRZ already on endstop\n",
      "All axes on endstops, skipping\n",
      "SetPositions: {'BRZ': 0}\n",
      "Move: {'BRZ': 1280}\n",
      "SetPositions: {'BLZ': 0}\n",
      "Move: {'BLZ': -40}\n",
      "SetPositions: {'FLZ': 0}\n",
      "Move: {'FLZ': 4320}\n",
      "SetPositions: {'FRZ': 0}\n",
      "Move: {'FRZ': 2160}\n",
      "SetPositions: {'Z': 0}\n",
      "SetPositions: {'Z': 0}\n",
      "Move: {'Z': 20000}\n",
      "Save position: Z 19997.69921875\n",
      "SetPositions: {'X1': 0, 'X2': 0, 'Y': 0}\n",
      "SetPositions: {'X1': 13200, 'X2': -14000, 'Y': -22500}\n",
      "MoveTo: {'X1': 12700, 'X2': -13500, 'Y': -20000}\n",
      "Move: {'X1': -500.0, 'X2': 500.0, 'Y': 2500.0}\n"
     ]
    }
   ],
   "source": [
    "p.home()"
   ]
  },
  {
   "cell_type": "code",
   "execution_count": 441,
   "metadata": {},
   "outputs": [
    {
     "name": "stdout",
     "output_type": "stream",
     "text": [
      "MoveTo: {'X1': 0, 'Y': 0}\n",
      "Move: {'X1': 10800.41015625, 'Y': -8792.55859375}\n"
     ]
    }
   ],
   "source": [
    "lf = {\"X1\": -10800, \"Y\": 8800}\n",
    "lb = {\"X1\": 10800, \"Y\": 8800}\n",
    "rf = {\"X1\": -10800, \"Y\": -8800}\n",
    "rb = {\"X1\": 10800, \"Y\": -8800}\n",
    "center = {\"X1\": 0, \"Y\": 0}\n",
    "p.moveto(**center)"
   ]
  },
  {
   "cell_type": "code",
   "execution_count": 435,
   "metadata": {},
   "outputs": [
    {
     "name": "stdout",
     "output_type": "stream",
     "text": [
      "Move: {'Z': 80.0}\n",
      "[{'name': 'X1', 'x': -10800.4140625, 'v': 0}, {'name': 'Y', 'x': -8807.44140625, 'v': 0}, {'name': 'Z', 'x': -17200.21875, 'v': 0}]\n"
     ]
    }
   ],
   "source": [
    "p.move(Z=1600*0.05)\n",
    "print(p.get_state())"
   ]
  },
  {
   "cell_type": "code",
   "execution_count": 442,
   "metadata": {},
   "outputs": [
    {
     "name": "stdout",
     "output_type": "stream",
     "text": [
      "MoveTo: {'Z': -16000}\n",
      "Move: {'Z': 1200.03515625}\n",
      "[{'name': 'X1', 'x': -0.41015625, 'v': 0}, {'name': 'Y', 'x': -0.4140625, 'v': 0}, {'name': 'Z', 'x': -16000.2578125, 'v': 0}]\n"
     ]
    }
   ],
   "source": [
    "p.moveto(Z=-16000)\n",
    "print(p.get_state())"
   ]
  },
  {
   "cell_type": "code",
   "execution_count": 144,
   "metadata": {},
   "outputs": [
    {
     "name": "stdout",
     "output_type": "stream",
     "text": [
      "SetPositions: {'X1': 13200, 'X2': -14000, 'Y': -22500}\n"
     ]
    }
   ],
   "source": [
    "p.axe_x1.enabled=False\n",
    "p.axe_y.enabled=False\n",
    "p.update_axes_config()\n"
   ]
  },
  {
   "cell_type": "code",
   "execution_count": 245,
   "metadata": {},
   "outputs": [
    {
     "name": "stdout",
     "output_type": "stream",
     "text": [
      "MoveTo: {'Z': 4610.0}\n",
      "Save position: X1 -1.41015625\n",
      "Save position: X2 -13502.1484375\n",
      "Save position: Y -1.41015625\n",
      "SetPositions: {'X2': -13502.1484375, 'Y': -1.41015625, 'Z': 19997.69921875}\n",
      "Move: {'Z': -15386.69921875}\n",
      "Save position: X2 -13503.1484375\n",
      "Save position: Y -2.41015625\n",
      "Save position: Z 19996.69921875\n"
     ]
    }
   ],
   "source": [
    "p.moveto(Z=4450 + 0.1*1600)\n"
   ]
  },
  {
   "cell_type": "code",
   "execution_count": 244,
   "metadata": {},
   "outputs": [
    {
     "name": "stdout",
     "output_type": "stream",
     "text": [
      "SetPositions: {'X1': -0.41015625, 'X2': -13501.1484375, 'Y': -0.41015625}\n"
     ]
    }
   ],
   "source": [
    "p.axe_e1.max_v=100000\n",
    "p.axe_e1.enabled=True\n",
    "p.update_axes_config()"
   ]
  },
  {
   "cell_type": "code",
   "execution_count": 246,
   "metadata": {},
   "outputs": [
    {
     "name": "stdout",
     "output_type": "stream",
     "text": [
      "Move: {'X1': 16000.0, 'E1': -14000.0}\n",
      "Save position: Z 4608.69921875\n",
      "SetPositions: {'X1': -1.41015625, 'E1': 0, 'Z': 4608.69921875}\n",
      "Move: {'Y': -16000.0, 'E1': -14000.0}\n",
      "Save position: X1 15997.56640625\n",
      "Save position: E1 -14001.0390625\n",
      "Save position: Z 4607.69921875\n",
      "SetPositions: {'Y': -2.41015625, 'E1': -14001.0390625, 'Z': 4607.69921875}\n",
      "Move: {'X1': -15800.0, 'E1': -13825.0}\n",
      "Save position: Y -16003.45703125\n",
      "Save position: E1 -28002.078125\n",
      "Save position: Z 4606.69921875\n",
      "SetPositions: {'X1': 15997.56640625, 'E1': -28002.078125, 'Z': 4606.69921875}\n",
      "Move: {'Y': 15800.0, 'E1': -13825.0}\n",
      "Save position: X1 196.51953125\n",
      "Save position: E1 -41828.1015625\n",
      "Save position: Z 4605.69921875\n",
      "SetPositions: {'Y': -16003.45703125, 'E1': -41828.1015625, 'Z': 4605.69921875}\n",
      "Move: {'X1': 15600.0, 'E1': -13650.0}\n",
      "Save position: Y -204.48046875\n",
      "Save position: E1 -55654.125\n",
      "Save position: Z 4604.69921875\n",
      "SetPositions: {'X1': 196.51953125, 'E1': -55654.125, 'Z': 4604.69921875}\n",
      "Move: {'Y': -15600.0, 'E1': -13650.0}\n",
      "Save position: X1 15796.48046875\n",
      "Save position: E1 -69305.1640625\n",
      "Save position: Z 4603.69921875\n",
      "SetPositions: {'Y': -204.48046875, 'E1': -69305.1640625, 'Z': 4603.69921875}\n",
      "Move: {'X1': -15400.0, 'E1': -13475.0}\n",
      "Save position: Y -15804.51171875\n",
      "Save position: E1 -82956.203125\n",
      "Save position: Z 4602.69921875\n",
      "SetPositions: {'X1': 15796.48046875, 'E1': -82956.203125, 'Z': 4602.69921875}\n",
      "Move: {'Y': 15400.0, 'E1': -13475.0}\n",
      "Save position: X1 396.45703125\n",
      "Save position: E1 -96432.2421875\n",
      "Save position: Z 4601.69921875\n",
      "SetPositions: {'Y': -15804.51171875, 'E1': -96432.2421875, 'Z': 4601.69921875}\n",
      "Move: {'X1': 15200.0, 'E1': -13300.0}\n",
      "Save position: Y -404.55859375\n",
      "Save position: E1 -109908.28125\n",
      "Save position: Z 4600.69921875\n",
      "SetPositions: {'X1': 396.45703125, 'E1': -109908.28125, 'Z': 4600.69921875}\n",
      "Move: {'Y': -15200.0, 'E1': -13300.0}\n",
      "Save position: X1 15596.4140625\n",
      "Save position: E1 -123209.328125\n",
      "Save position: Z 4599.69921875\n",
      "SetPositions: {'Y': -404.55859375, 'E1': -123209.328125, 'Z': 4599.69921875}\n",
      "Move: {'X1': -15000.0, 'E1': -13125.0}\n",
      "Save position: Y -15604.58203125\n",
      "Save position: E1 -136510.375\n",
      "Save position: Z 4598.69921875\n",
      "SetPositions: {'X1': 15596.4140625, 'E1': -136510.375, 'Z': 4598.69921875}\n",
      "Move: {'Y': 15000.0, 'E1': -13125.0}\n",
      "Save position: X1 596.37890625\n",
      "Save position: E1 -149636.41015625\n",
      "Save position: Z 4597.69921875\n",
      "SetPositions: {'Y': -15604.58203125, 'E1': -149636.41015625, 'Z': 4597.69921875}\n",
      "Move: {'X1': 14800.0, 'E1': -12950.0}\n",
      "Save position: Y -604.6171875\n",
      "Save position: E1 -162762.4453125\n",
      "Save position: Z 4596.69921875\n",
      "SetPositions: {'X1': 596.37890625, 'E1': -162762.4453125, 'Z': 4596.69921875}\n",
      "Move: {'Y': -14800.0, 'E1': -12950.0}\n",
      "Save position: X1 15396.33984375\n",
      "Save position: E1 -175713.48046875\n",
      "Save position: Z 4595.69921875\n",
      "SetPositions: {'Y': -604.6171875, 'E1': -175713.48046875, 'Z': 4595.69921875}\n",
      "Move: {'X1': -14600.0, 'E1': -12775.0}\n",
      "Save position: Y -15404.6484375\n",
      "Save position: E1 -188663.515625\n",
      "Save position: Z 4594.69921875\n",
      "SetPositions: {'X1': 15396.33984375, 'E1': -188663.515625, 'Z': 4594.69921875}\n",
      "Move: {'Y': 14600.0, 'E1': -12775.0}\n",
      "Save position: X1 796.3046875\n",
      "Save position: E1 -201438.55859375\n",
      "Save position: Z 4593.69921875\n",
      "SetPositions: {'Y': -15404.6484375, 'E1': -201438.55859375, 'Z': 4593.69921875}\n",
      "Move: {'X1': 14400.0, 'E1': -12600.0}\n",
      "Save position: Y -804.68359375\n",
      "Save position: E1 -214213.6015625\n",
      "Save position: Z 4592.69921875\n",
      "SetPositions: {'X1': 796.3046875, 'E1': -214213.6015625, 'Z': 4592.69921875}\n",
      "Move: {'Y': -14400.0, 'E1': -12600.0}\n",
      "Save position: X1 15196.26171875\n",
      "Save position: E1 -226813.63671875\n",
      "Save position: Z 4591.69921875\n",
      "SetPositions: {'Y': -804.68359375, 'E1': -226813.63671875, 'Z': 4591.69921875}\n",
      "Move: {'X1': -14200.0, 'E1': -12425.0}\n",
      "Save position: Y -15204.7109375\n",
      "Save position: E1 -239413.671875\n",
      "Save position: Z 4590.69921875\n",
      "SetPositions: {'X1': 15196.26171875, 'E1': -239413.671875, 'Z': 4590.69921875}\n",
      "Move: {'Y': 14200.0, 'E1': -12425.0}\n",
      "Save position: X1 996.234375\n",
      "Save position: E1 -251838.7109375\n",
      "Save position: Z 4589.69921875\n",
      "SetPositions: {'Y': -15204.7109375, 'E1': -251838.7109375, 'Z': 4589.69921875}\n",
      "Move: {'X1': 14000.0, 'E1': -12250.0}\n",
      "Save position: Y -1004.75\n",
      "Save position: E1 -264263.75\n",
      "Save position: Z 4588.69921875\n",
      "SetPositions: {'X1': 996.234375, 'E1': -264263.75, 'Z': 4588.69921875}\n",
      "Move: {'Y': -14000.0, 'E1': -12250.0}\n",
      "Save position: X1 14996.20703125\n",
      "Save position: E1 -276513.77734375\n",
      "Save position: Z 4587.69921875\n",
      "SetPositions: {'Y': -1004.75, 'E1': -276513.77734375, 'Z': 4587.69921875}\n",
      "Move: {'X1': -13800.0, 'E1': -12075.0}\n",
      "Save position: Y -15004.7890625\n",
      "Save position: E1 -288763.8046875\n",
      "Save position: Z 4586.69921875\n",
      "SetPositions: {'X1': 14996.20703125, 'E1': -288763.8046875, 'Z': 4586.69921875}\n",
      "Move: {'Y': 13800.0, 'E1': -12075.0}\n",
      "Save position: X1 1196.16796875\n",
      "Save position: E1 -300838.84765625\n",
      "Save position: Z 4585.69921875\n",
      "SetPositions: {'Y': -15004.7890625, 'E1': -300838.84765625, 'Z': 4585.69921875}\n",
      "Move: {'X1': 13600.0, 'E1': -11900.0}\n",
      "Save position: Y -1204.81640625\n",
      "Save position: E1 -312913.890625\n",
      "Save position: Z 4584.69921875\n",
      "SetPositions: {'X1': 1196.16796875, 'E1': -312913.890625, 'Z': 4584.69921875}\n",
      "Move: {'Y': -13600.0, 'E1': -11900.0}\n",
      "Save position: X1 14796.12890625\n",
      "Save position: E1 -324813.9296875\n",
      "Save position: Z 4583.69921875\n",
      "SetPositions: {'Y': -1204.81640625, 'E1': -324813.9296875, 'Z': 4583.69921875}\n",
      "Move: {'X1': -13400.0, 'E1': -11725.0}\n",
      "Save position: Y -14804.84375\n",
      "Save position: E1 -336713.96875\n",
      "Save position: Z 4582.69921875\n",
      "SetPositions: {'X1': 14796.12890625, 'E1': -336713.96875, 'Z': 4582.69921875}\n",
      "Move: {'Y': 13400.0, 'E1': -11725.0}\n",
      "Save position: X1 1396.09765625\n",
      "Save position: E1 -348438.99609375\n",
      "Save position: Z 4581.69921875\n",
      "SetPositions: {'Y': -14804.84375, 'E1': -348438.99609375, 'Z': 4581.69921875}\n",
      "Move: {'X1': 13200.0, 'E1': -11550.0}\n",
      "Save position: Y -1404.8828125\n",
      "Save position: E1 -360165.0234375\n",
      "Save position: Z 4580.69921875\n",
      "SetPositions: {'X1': 1396.09765625, 'E1': -360165.0234375, 'Z': 4580.69921875}\n",
      "Move: {'Y': -13200.0, 'E1': -11550.0}\n",
      "Save position: X1 14596.06640625\n",
      "Save position: E1 -371716.05078125\n",
      "Save position: Z 4579.69921875\n",
      "SetPositions: {'Y': -1404.8828125, 'E1': -371716.05078125, 'Z': 4579.69921875}\n",
      "Move: {'X1': -13000.0, 'E1': -11375.0}\n",
      "Save position: Y -14604.921875\n",
      "Save position: E1 -383267.078125\n",
      "Save position: Z 4578.69921875\n",
      "SetPositions: {'X1': 14596.06640625, 'E1': -383267.078125, 'Z': 4578.69921875}\n",
      "Move: {'Y': 13000.0, 'E1': -11375.0}\n",
      "Save position: X1 1596.03125\n",
      "Save position: E1 -394643.10546875\n",
      "Save position: Z 4577.69921875\n",
      "SetPositions: {'Y': -14604.921875, 'E1': -394643.10546875, 'Z': 4577.69921875}\n",
      "Move: {'X1': 12800.0, 'E1': -11200.0}\n",
      "Save position: Y -1604.95703125\n",
      "Save position: E1 -406019.1328125\n",
      "Save position: Z 4576.69921875\n",
      "SetPositions: {'X1': 1596.03125, 'E1': -406019.1328125, 'Z': 4576.69921875}\n",
      "Move: {'Y': -12800.0, 'E1': -11200.0}\n",
      "Save position: X1 14396.0\n",
      "Save position: E1 -417220.171875\n",
      "Save position: Z 4575.69921875\n",
      "SetPositions: {'Y': -1604.95703125, 'E1': -417220.171875, 'Z': 4575.69921875}\n",
      "Move: {'X1': -12600.0, 'E1': -11025.0}\n",
      "Save position: Y -14404.99609375\n",
      "Save position: E1 -428421.2109375\n",
      "Save position: Z 4574.69921875\n",
      "SetPositions: {'X1': 14396.0, 'E1': -428421.2109375, 'Z': 4574.69921875}\n",
      "Move: {'Y': 12600.0, 'E1': -11025.0}\n",
      "Save position: X1 1794.96875\n",
      "Save position: E1 -439447.25\n",
      "Save position: Z 4573.69921875\n",
      "SetPositions: {'Y': -14404.99609375, 'E1': -439447.25, 'Z': 4573.69921875}\n",
      "Move: {'X1': 12400.0, 'E1': -10850.0}\n",
      "Save position: Y -1806.03515625\n",
      "Save position: E1 -450473.2890625\n",
      "Save position: Z 4572.69921875\n",
      "SetPositions: {'X1': 1794.96875, 'E1': -450473.2890625, 'Z': 4572.69921875}\n",
      "Move: {'Y': -12400.0, 'E1': -10850.0}\n",
      "Save position: X1 14193.9296875\n",
      "Save position: E1 -461324.33203125\n",
      "Save position: Z 4571.69921875\n",
      "SetPositions: {'Y': -1806.03515625, 'E1': -461324.33203125, 'Z': 4571.69921875}\n",
      "Move: {'X1': -12200.0, 'E1': -10675.0}\n",
      "Save position: Y -14207.06640625\n",
      "Save position: E1 -472175.375\n",
      "Save position: Z 4570.69921875\n",
      "SetPositions: {'X1': 14193.9296875, 'E1': -472175.375, 'Z': 4570.69921875}\n",
      "Move: {'Y': 12200.0, 'E1': -10675.0}\n",
      "Save position: X1 1992.890625\n",
      "Save position: E1 -482851.41015625\n",
      "Save position: Z 4569.69921875\n",
      "SetPositions: {'Y': -14207.06640625, 'E1': -482851.41015625, 'Z': 4569.69921875}\n"
     ]
    }
   ],
   "source": [
    "p.axe_e1.max_v=600000\n",
    "#e_vol = -4700\n",
    "e_vol = -7000\n",
    "\n",
    "for i in range(0, 10):\n",
    "    k = 2 - 0.05 * i\n",
    "    k2 = 2 - 0.05 * (i + 0.5)\n",
    "    p.move(X1=k*8000,E1=e_vol*k)\n",
    "    p.move(Y=-k*8000,E1=e_vol*k)\n",
    "    p.move(X1=-k2*8000,E1=e_vol*k2)\n",
    "    p.move(Y=k2*8000,E1=e_vol*k2)\n",
    "    #p.move(BRZ= -100)\n"
   ]
  },
  {
   "cell_type": "code",
   "execution_count": 242,
   "metadata": {},
   "outputs": [
    {
     "name": "stdout",
     "output_type": "stream",
     "text": [
      "MoveTo: {'X1': 0}\n",
      "Save position: X1 12698.84765625\n",
      "Save position: X2 -13501.1484375\n",
      "Save position: Y -20001.1484375\n",
      "Move: {'X1': -12698.84765625}\n",
      "MoveTo: {'Y': 0}\n",
      "Save position: X1 -0.41015625\n",
      "Move: {'Y': 20001.1484375}\n"
     ]
    }
   ],
   "source": [
    "p.moveto(X1=0)\n",
    "p.moveto(Y=0)\n"
   ]
  },
  {
   "cell_type": "code",
   "execution_count": 243,
   "metadata": {},
   "outputs": [
    {
     "name": "stdout",
     "output_type": "stream",
     "text": [
      "MoveTo: {'X1': -8000, 'Y': 7000}\n",
      "Save position: Y -0.41015625\n",
      "Move: {'X1': -7999.58984375, 'Y': 7000.41015625}\n"
     ]
    }
   ],
   "source": [
    "p.moveto(X1=-8000, Y=7000)\n"
   ]
  },
  {
   "cell_type": "code",
   "execution_count": 161,
   "metadata": {},
   "outputs": [
    {
     "name": "stdout",
     "output_type": "stream",
     "text": [
      "MoveTo: {'X1': 0}\n",
      "Save position: Y -1004.66796875\n",
      "Save position: E1 -186914.53125\n",
      "Save position: Z 4592.69921875\n",
      "SetPositions: {'X1': 996.30078125, 'E1': -186914.53125, 'Z': 4592.69921875}\n",
      "Move: {'X1': -996.30078125}\n",
      "Save position: Z 4591.69921875\n",
      "MoveTo: {'y': -10000}\n",
      "Save position: X1 -1.05859375\n"
     ]
    },
    {
     "ename": "KeyError",
     "evalue": "'y'",
     "output_type": "error",
     "traceback": [
      "\u001b[0;31m---------------------------------------------------------------------------\u001b[0m",
      "\u001b[0;31mKeyError\u001b[0m                                  Traceback (most recent call last)",
      "\u001b[0;32m<ipython-input-161-6f043e179ff7>\u001b[0m in \u001b[0;36m<module>\u001b[0;34m\u001b[0m\n\u001b[1;32m      1\u001b[0m \u001b[0mp\u001b[0m\u001b[0;34m.\u001b[0m\u001b[0mmoveto\u001b[0m\u001b[0;34m(\u001b[0m\u001b[0mX1\u001b[0m\u001b[0;34m=\u001b[0m\u001b[0;36m0\u001b[0m\u001b[0;34m)\u001b[0m\u001b[0;34m\u001b[0m\u001b[0;34m\u001b[0m\u001b[0m\n\u001b[0;32m----> 2\u001b[0;31m \u001b[0mp\u001b[0m\u001b[0;34m.\u001b[0m\u001b[0mmoveto\u001b[0m\u001b[0;34m(\u001b[0m\u001b[0my\u001b[0m\u001b[0;34m=\u001b[0m\u001b[0;34m-\u001b[0m\u001b[0;36m10000\u001b[0m\u001b[0;34m)\u001b[0m\u001b[0;34m\u001b[0m\u001b[0;34m\u001b[0m\u001b[0m\n\u001b[0m",
      "\u001b[0;32m~/src/sevasoft/valurap/host_soft/valurap/valurap/printer.py\u001b[0m in \u001b[0;36mmoveto\u001b[0;34m(self, **point)\u001b[0m\n\u001b[1;32m    522\u001b[0m     \u001b[0;32mdef\u001b[0m \u001b[0mmoveto\u001b[0m\u001b[0;34m(\u001b[0m\u001b[0mself\u001b[0m\u001b[0;34m,\u001b[0m \u001b[0;34m**\u001b[0m\u001b[0mpoint\u001b[0m\u001b[0;34m)\u001b[0m\u001b[0;34m:\u001b[0m\u001b[0;34m\u001b[0m\u001b[0;34m\u001b[0m\u001b[0m\n\u001b[1;32m    523\u001b[0m         \u001b[0mprint\u001b[0m\u001b[0;34m(\u001b[0m\u001b[0;34m\"MoveTo:\"\u001b[0m\u001b[0;34m,\u001b[0m \u001b[0mpoint\u001b[0m\u001b[0;34m)\u001b[0m\u001b[0;34m\u001b[0m\u001b[0;34m\u001b[0m\u001b[0m\n\u001b[0;32m--> 524\u001b[0;31m         \u001b[0mself\u001b[0m\u001b[0;34m.\u001b[0m\u001b[0massign_apgs\u001b[0m\u001b[0;34m(\u001b[0m\u001b[0mpoint\u001b[0m\u001b[0;34m.\u001b[0m\u001b[0mkeys\u001b[0m\u001b[0;34m(\u001b[0m\u001b[0;34m)\u001b[0m\u001b[0;34m)\u001b[0m\u001b[0;34m\u001b[0m\u001b[0;34m\u001b[0m\u001b[0m\n\u001b[0m\u001b[1;32m    525\u001b[0m         \u001b[0margs\u001b[0m \u001b[0;34m=\u001b[0m \u001b[0;34m{\u001b[0m\u001b[0;34m}\u001b[0m\u001b[0;34m\u001b[0m\u001b[0;34m\u001b[0m\u001b[0m\n\u001b[1;32m    526\u001b[0m         \u001b[0mstate\u001b[0m \u001b[0;34m=\u001b[0m \u001b[0mself\u001b[0m\u001b[0;34m.\u001b[0m\u001b[0mget_state\u001b[0m\u001b[0;34m(\u001b[0m\u001b[0;34m)\u001b[0m\u001b[0;34m\u001b[0m\u001b[0;34m\u001b[0m\u001b[0m\n",
      "\u001b[0;32m~/src/sevasoft/valurap/host_soft/valurap/valurap/printer.py\u001b[0m in \u001b[0;36massign_apgs\u001b[0;34m(self, axes_names)\u001b[0m\n\u001b[1;32m    217\u001b[0m         \u001b[0mneeds_apg\u001b[0m \u001b[0;34m=\u001b[0m \u001b[0;34m[\u001b[0m\u001b[0;34m]\u001b[0m\u001b[0;34m\u001b[0m\u001b[0;34m\u001b[0m\u001b[0m\n\u001b[1;32m    218\u001b[0m         \u001b[0;32mfor\u001b[0m \u001b[0mname\u001b[0m \u001b[0;32min\u001b[0m \u001b[0maxes_names\u001b[0m\u001b[0;34m:\u001b[0m\u001b[0;34m\u001b[0m\u001b[0;34m\u001b[0m\u001b[0m\n\u001b[0;32m--> 219\u001b[0;31m             \u001b[0maxis\u001b[0m \u001b[0;34m=\u001b[0m \u001b[0mself\u001b[0m\u001b[0;34m.\u001b[0m\u001b[0maxes\u001b[0m\u001b[0;34m[\u001b[0m\u001b[0mname\u001b[0m\u001b[0;34m]\u001b[0m\u001b[0;34m\u001b[0m\u001b[0;34m\u001b[0m\u001b[0m\n\u001b[0m\u001b[1;32m    220\u001b[0m             \u001b[0;32mif\u001b[0m \u001b[0maxis\u001b[0m\u001b[0;34m.\u001b[0m\u001b[0mapg\u001b[0m\u001b[0;34m:\u001b[0m\u001b[0;34m\u001b[0m\u001b[0;34m\u001b[0m\u001b[0m\n\u001b[1;32m    221\u001b[0m                 \u001b[0;32mtry\u001b[0m\u001b[0;34m:\u001b[0m\u001b[0;34m\u001b[0m\u001b[0;34m\u001b[0m\u001b[0m\n",
      "\u001b[0;31mKeyError\u001b[0m: 'y'"
     ]
    }
   ],
   "source": [
    "p.moveto(X1=0)\n",
    "p.moveto(Y=-10000)\n"
   ]
  },
  {
   "cell_type": "code",
   "execution_count": 45,
   "metadata": {},
   "outputs": [
    {
     "name": "stdout",
     "output_type": "stream",
     "text": [
      "Move: {'Z': -320.0}\n",
      "Save position: Z 4771.01171875\n",
      "[{'name': 'X1', 'x': -9000.41015625, 'v': 0}, {'name': 'Y', 'x': 6999.58984375, 'v': 0}, {'name': 'Z', 'x': 4449.8828125, 'v': 0}]\n"
     ]
    }
   ],
   "source": [
    "p.moveto(X1=0)\n",
    "p.move(Z=-1600*0.2)\n",
    "print(p.get_state())"
   ]
  },
  {
   "cell_type": "code",
   "execution_count": 95,
   "metadata": {},
   "outputs": [
    {
     "name": "stdout",
     "output_type": "stream",
     "text": [
      "Move: {'E1': -1600}\n",
      "Save position: E1 -738345.3515625\n"
     ]
    }
   ],
   "source": [
    "p.move(E1=-1600)\n"
   ]
  }
 ],
 "metadata": {
  "kernelspec": {
   "display_name": "Python 3",
   "language": "python",
   "name": "python3"
  },
  "language_info": {
   "codemirror_mode": {
    "name": "ipython",
    "version": 3
   },
   "file_extension": ".py",
   "mimetype": "text/x-python",
   "name": "python",
   "nbconvert_exporter": "python",
   "pygments_lexer": "ipython3",
   "version": "3.7.2"
  }
 },
 "nbformat": 4,
 "nbformat_minor": 2
}
